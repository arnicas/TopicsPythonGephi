{
 "metadata": {
  "name": ""
 },
 "nbformat": 3,
 "nbformat_minor": 0,
 "worksheets": [
  {
   "cells": [
    {
     "cell_type": "heading",
     "level": 2,
     "metadata": {},
     "source": [
      "Some Topic Analysis Workflow Using Python, a Topic GUI (on Mallet), Excel, Gephi, and Overview Project\n"
     ]
    },
    {
     "cell_type": "heading",
     "level": 3,
     "metadata": {},
     "source": [
      "By Lynn Cherny for DST4L"
     ]
    },
    {
     "cell_type": "markdown",
     "metadata": {},
     "source": [
      "Download a book from Gutenberg project in txt format.  Open in a text editor, delete all the pre-book text and post-book text.\n",
      "Make sure the word \"Chapter\" appears before all chapter breaks."
     ]
    },
    {
     "cell_type": "code",
     "collapsed": false,
     "input": [
      "# A utility function that mostly works on well-formatted Gutenberg text files with blank lines between chapter headings.\n",
      "\n",
      "def ascii_print(x):\n",
      "    try: \n",
      "        #return x.decode('utf8')\n",
      "        return x.encode('ascii')\n",
      "    except:\n",
      "        return \"*\"\n",
      "    \n",
      "def read_chapters(filename): \n",
      "    \"\"\" This works on Gutenberg text files. Check for Chapter at start of line.\"\"\"\n",
      "    import re\n",
      "    para = ''\n",
      "    chapters = {}\n",
      "    titles = {}\n",
      "    count = 0\n",
      "    chapters[count] = []\n",
      "    titles[count] = []\n",
      "    find_chapter = re.compile('^Chapter\\s+', re.U|re.I)\n",
      "    \n",
      "    for line in open(filename):\n",
      "        #print line\n",
      "        line = line.decode('utf8').strip()\n",
      "        if find_chapter.match(line):\n",
      "            newtitle = line.replace('Chapter ','')\n",
      "            print \"matched ch\", line, \" count is \", count\n",
      "            \n",
      "            # dump all the saved paragraphs to the chapter dict\n",
      "            if para.strip() != '' and ascii_print(para) != '*':   # in case of first chapter\n",
      "                chapters[count].append(para)\n",
      "                titles[count] = title\n",
      "                para = ''\n",
      "                count += 1\n",
      "                chapters[count] = []\n",
      "        if line.strip() != '' and ascii_print(line) != '*':  # filter out blank lines; remove \\n from end of lines\n",
      "            para = para + ' ' + line.strip()\n",
      "            title = newtitle   # save the title you found, since you'll overwrite it with a new one\n",
      "            \n",
      "    # last one - no titles follow, so you need to dump this one!\n",
      "    titles[count] = title\n",
      "    chapters[count].append(para)\n",
      "    return chapters, titles"
     ],
     "language": "python",
     "metadata": {},
     "outputs": [],
     "prompt_number": 2
    },
    {
     "cell_type": "code",
     "collapsed": false,
     "input": [
      "textdir = \"\""
     ],
     "language": "python",
     "metadata": {},
     "outputs": [],
     "prompt_number": 4
    },
    {
     "cell_type": "code",
     "collapsed": false,
     "input": [
      "chaps, titles = read_chapters(textdir+\"Grimms.txt\")"
     ],
     "language": "python",
     "metadata": {},
     "outputs": [
      {
       "output_type": "stream",
       "stream": "stdout",
       "text": [
        "matched ch Chapter THE GOLDEN BIRD  count is  0\n",
        "matched ch Chapter HANS IN LUCK  count is  0\n",
        "matched ch Chapter JORINDA AND JORINDEL  count is  1\n",
        "matched ch Chapter THE TRAVELLING MUSICIANS  count is  2\n",
        "matched ch Chapter OLD SULTAN  count is  3\n",
        "matched ch Chapter THE STRAW, THE COAL, AND THE BEAN  count is  4\n",
        "matched ch Chapter BRIAR ROSE  count is  5\n",
        "matched ch Chapter THE DOG AND THE SPARROW  count is  6\n",
        "matched ch Chapter THE TWELVE DANCING PRINCESSES  count is  7\n",
        "matched ch Chapter THE FISHERMAN AND HIS WIFE  count is  8\n",
        "matched ch Chapter THE WILLOW-WREN AND THE BEAR  count is  9\n",
        "matched ch Chapter THE FROG-PRINCE  count is  10\n",
        "matched ch Chapter CAT AND MOUSE IN PARTNERSHIP  count is  11\n",
        "matched ch Chapter THE GOOSE-GIRL  count is  12\n",
        "matched ch Chapter Chanticleer 1. HOW THEY WENT TO THE MOUNTAINS TO EAT NUTS  count is  13\n",
        "matched ch Chapter Chanticleer 2. HOW CHANTICLEER AND PARTLET WENT TO VISIT MR KORBES  count is  14\n",
        "matched ch Chapter Chanticleer 3. HOW PARTLET DIED AND WAS BURIED, AND HOW CHANTICLEER DIED OF GRIEF  count is  15\n",
        "matched ch Chapter RAPUNZEL  count is  16\n",
        "matched ch Chapter FUNDEVOGEL  count is  17\n",
        "matched ch Chapter THE VALIANT LITTLE TAILOR  count is  18\n",
        "matched ch Chapter HANSEL AND GRETEL  count is  19\n",
        "matched ch Chapter THE MOUSE, THE BIRD, AND THE SAUSAGE  count is  20\n",
        "matched ch Chapter MOTHER HOLLE  count is  21\n",
        "matched ch Chapter LITTLE RED-CAP [LITTLE RED RIDING HOOD]  count is  22\n",
        "matched ch Chapter THE ROBBER BRIDEGROOM  count is  23\n",
        "matched ch Chapter TOM THUMB  count is  24\n",
        "matched ch Chapter RUMPELSTILTSKIN  count is  25\n",
        "matched ch Chapter CLEVER GRETEL  count is  26\n",
        "matched ch Chapter THE OLD MAN AND HIS GRANDSON  count is  27\n",
        "matched ch Chapter THE LITTLE PEASANT  count is  28\n",
        "matched ch Chapter FREDERICK AND CATHERINE  count is  29\n",
        "matched ch Chapter SWEETHEART ROLAND  count is  30\n",
        "matched ch"
       ]
      },
      {
       "output_type": "stream",
       "stream": "stdout",
       "text": [
        " Chapter SNOWDROP  count is  31\n",
        "matched ch Chapter THE PINK  count is  32\n",
        "matched ch Chapter CLEVER ELSIE  count is  33\n",
        "matched ch Chapter THE MISER IN THE BUSH  count is  34\n",
        "matched ch Chapter ASHPUTTEL  count is  35\n",
        "matched ch Chapter THE WHITE SNAKE  count is  36\n",
        "matched ch Chapter THE WOLF AND THE SEVEN LITTLE KIDS  count is  37\n",
        "matched ch Chapter THE QUEEN BEE  count is  38\n",
        "matched ch Chapter THE ELVES AND THE SHOEMAKER  count is  39\n",
        "matched ch Chapter THE JUNIPER-TREE  count is  40\n",
        "matched ch Chapter THE TURNIP  count is  41\n",
        "matched ch Chapter CLEVER HANS  count is  42\n",
        "matched ch Chapter THE THREE LANGUAGES  count is  43\n",
        "matched ch Chapter THE FOX AND THE CAT  count is  44\n",
        "matched ch Chapter THE FOUR CLEVER BROTHERS  count is  45\n",
        "matched ch Chapter LILY AND THE LION  count is  46\n",
        "matched ch Chapter THE FOX AND THE HORSE  count is  47\n",
        "matched ch Chapter THE BLUE LIGHT  count is  48\n",
        "matched ch Chapter THE RAVEN  count is  49\n",
        "matched ch Chapter THE GOLDEN GOOSE  count is  50\n",
        "matched ch Chapter THE WATER OF LIFE  count is  51\n",
        "matched ch Chapter THE TWELVE HUNTSMEN  count is  52\n",
        "matched ch Chapter THE KING OF THE GOLDEN MOUNTAIN  count is  53\n",
        "matched ch Chapter DOCTOR KNOWALL  count is  54\n",
        "matched ch Chapter THE SEVEN RAVENS  count is  55\n",
        "matched ch Chapter THE WEDDING OF MRS FOX:FIRST STORY  count is  56\n",
        "matched ch Chapter THE WEDDING OF MRS FOX:SECOND STORY  count is  57\n",
        "matched ch Chapter THE SALAD  count is  58\n",
        "matched ch"
       ]
      },
      {
       "output_type": "stream",
       "stream": "stdout",
       "text": [
        " Chapter THE STORY OF THE YOUTH WHO WENT FORTH TO LEARN WHAT FEAR WAS  count is  59\n",
        "matched ch Chapter KING GRISLY-BEARD  count is  60\n",
        "matched ch Chapter IRON HANS  count is  61\n",
        "matched ch Chapter CAT-SKIN  count is  62\n",
        "matched ch Chapter SNOW-WHITE AND ROSE-RED  count is  63\n"
       ]
      }
     ],
     "prompt_number": 5
    },
    {
     "cell_type": "code",
     "collapsed": false,
     "input": [
      "len(chaps)"
     ],
     "language": "python",
     "metadata": {},
     "outputs": [
      {
       "metadata": {},
       "output_type": "pyout",
       "prompt_number": 6,
       "text": [
        "65"
       ]
      }
     ],
     "prompt_number": 6
    },
    {
     "cell_type": "code",
     "collapsed": false,
     "input": [
      "len(titles)"
     ],
     "language": "python",
     "metadata": {},
     "outputs": [
      {
       "metadata": {},
       "output_type": "pyout",
       "prompt_number": 7,
       "text": [
        "65"
       ]
      }
     ],
     "prompt_number": 7
    },
    {
     "cell_type": "code",
     "collapsed": false,
     "input": [
      "titles[1]"
     ],
     "language": "python",
     "metadata": {},
     "outputs": [
      {
       "metadata": {},
       "output_type": "pyout",
       "prompt_number": 8,
       "text": [
        "u'HANS IN LUCK'"
       ]
      }
     ],
     "prompt_number": 8
    },
    {
     "cell_type": "code",
     "collapsed": false,
     "input": [
      "chaps[1]"
     ],
     "language": "python",
     "metadata": {},
     "outputs": [
      {
       "metadata": {},
       "output_type": "pyout",
       "prompt_number": 9,
       "text": [
        "[u' Chapter HANS IN LUCK Some men are born to good luck: all they do or try to do comes right--all that falls to them is so much gain--all their geese are swans--all their cards are trumps--toss them which way you will, they will always, like poor puss, alight upon their legs, and only move on so much the faster. The world may very likely not always think of them as they think of themselves, but what care they for the world? what can it know about the matter? One of these lucky beings was neighbour Hans. Seven long years he had worked hard for his master. At last he said, \\'Master, my time is up; I must go home and see my poor mother once more: so pray pay me my wages and let me go.\\' And the master said, \\'You have been a faithful and good servant, Hans, so your pay shall be handsome.\\' Then he gave him a lump of silver as big as his head. Hans took out his pocket-handkerchief, put the piece of silver into it, threw it over his shoulder, and jogged off on his road homewards. As he went lazily on, dragging one foot after another, a man came in sight, trotting gaily along on a capital horse. \\'Ah!\\' said Hans aloud, \\'what a fine thing it is to ride on horseback! There he sits as easy and happy as if he was at home, in the chair by his fireside; he trips against no stones, saves shoe-leather, and gets on he hardly knows how.\\' Hans did not speak so softly but the horseman heard it all, and said, \\'Well, friend, why do you go on foot then?\\' \\'Ah!\\' said he, \\'I have this load to carry: to be sure it is silver, but it is so heavy that I can\\'t hold up my head, and you must know it hurts my shoulder sadly.\\' \\'What do you say of making an exchange?\\' said the horseman. \\'I will give you my horse, and you shall give me the silver; which will save you a great deal of trouble in carrying such a heavy load about with you.\\' \\'With all my heart,\\' said Hans: \\'but as you are so kind to me, I must tell you one thing--you will have a weary task to draw that silver about with you.\\' However, the horseman got off, took the silver, helped Hans up, gave him the bridle into one hand and the whip into the other, and said, \\'When you want to go very fast, smack your lips loudly together, and cry \"Jip!\"\\' Hans was delighted as he sat on the horse, drew himself up, squared his elbows, turned out his toes, cracked his whip, and rode merrily off, one minute whistling a merry tune, and another singing, \\'No care and no sorrow, A fig for the morrow! We\\'ll laugh and be merry, Sing neigh down derry!\\' After a time he thought he should like to go a little faster, so he smacked his lips and cried \\'Jip!\\' Away went the horse full gallop; and before Hans knew what he was about, he was thrown off, and lay on his back by the road-side. His horse would have ran off, if a shepherd who was coming by, driving a cow, had not stopped it. Hans soon came to himself, and got upon his legs again, sadly vexed, and said to the shepherd, \\'This riding is no joke, when a man has the luck to get upon a beast like this that stumbles and flings him off as if it would break his neck. However, I\\'m off now once for all: I like your cow now a great deal better than this smart beast that played me this trick, and has spoiled my best coat, you see, in this puddle; which, by the by, smells not very like a nosegay. One can walk along at one\\'s leisure behind that cow--keep good company, and have milk, butter, and cheese, every day, into the bargain. What would I give to have such a prize!\\' \\'Well,\\' said the shepherd, \\'if you are so fond of her, I will change my cow for your horse; I like to do good to my neighbours, even though I lose by it myself.\\' \\'Done!\\' said Hans, merrily. \\'What a noble heart that good man has!\\' thought he. Then the shepherd jumped upon the horse, wished Hans and the cow good morning, and away he rode. Hans brushed his coat, wiped his face and hands, rested a while, and then drove off his cow quietly, and thought his bargain a very lucky one. \\'If I have only a piece of bread (and I certainly shall always be able to get that), I can, whenever I like, eat my butter and cheese with it; and when I am thirsty I can milk my cow and drink the milk: and what can I wish for more?\\' When he came to an inn, he halted, ate up all his bread, and gave away his last penny for a glass of beer. When he had rested himself he set off again, driving his cow towards his mother\\'s village. But the heat grew greater as soon as noon came on, till at last, as he found himself on a wide heath that would take him more than an hour to cross, he began to be so hot and parched that his tongue clave to the roof of his mouth. \\'I can find a cure for this,\\' thought he; \\'now I will milk my cow and quench my thirst\\': so he tied her to the stump of a tree, and held his leathern cap to milk into; but not a drop was to be had. Who would have thought that this cow, which was to bring him milk and butter and cheese, was all that time utterly dry? Hans had not thought of looking to that. While he was trying his luck in milking, and managing the matter very clumsily, the uneasy beast began to think him very troublesome; and at last gave him such a kick on the head as knocked him down; and there he lay a long while senseless. Luckily a butcher soon came by, driving a pig in a wheelbarrow. \\'What is the matter with you, my man?\\' said the butcher, as he helped him up. Hans told him what had happened, how he was dry, and wanted to milk his cow, but found the cow was dry too. Then the butcher gave him a flask of ale, saying, \\'There, drink and refresh yourself; your cow will give you no milk: don\\'t you see she is an old beast, good for nothing but the slaughter-house?\\' \\'Alas, alas!\\' said Hans, \\'who would have thought it? What a shame to take my horse, and give me only a dry cow! If I kill her, what will she be good for? I hate cow-beef; it is not tender enough for me. If it were a pig now--like that fat gentleman you are driving along at his ease--one could do something with it; it would at any rate make sausages.\\' \\'Well,\\' said the butcher, \\'I don\\'t like to say no, when one is asked to do a kind, neighbourly thing. To please you I will change, and give you my fine fat pig for the cow.\\' \\'Heaven reward you for your kindness and self-denial!\\' said Hans, as he gave the butcher the cow; and taking the pig off the wheel-barrow, drove it away, holding it by the string that was tied to its leg. So on he jogged, and all seemed now to go right with him: he had met with some misfortunes, to be sure; but he was now well repaid for all. How could it be otherwise with such a travelling companion as he had at last got? The next man he met was a countryman carrying a fine white goose. The countryman stopped to ask what was o\\'clock; this led to further chat; and Hans told him all his luck, how he had so many good bargains, and how all the world went gay and smiling with him. The countryman then began to tell his tale, and said he was going to take the goose to a christening. \\'Feel,\\' said he, \\'how heavy it is, and yet it is only eight weeks old. Whoever roasts and eats it will find plenty of fat upon it, it has lived so well!\\' \\'You\\'re right,\\' said Hans, as he weighed it in his hand; \\'but if you talk of fat, my pig is no trifle.\\' Meantime the countryman began to look grave, and shook his head. \\'Hark ye!\\' said he, \\'my worthy friend, you seem a good sort of fellow, so I can\\'t help doing you a kind turn. Your pig may get you into a scrape. In the village I just came from, the squire has had a pig stolen out of his sty. I was dreadfully afraid when I saw you that you had got the squire\\'s pig. If you have, and they catch you, it will be a bad job for you. The least they will do will be to throw you into the horse-pond. Can you swim?\\' Poor Hans was sadly frightened. \\'Good man,\\' cried he, \\'pray get me out of this scrape. I know nothing of where the pig was either bred or born; but he may have been the squire\\'s for aught I can tell: you know this country better than I do, take my pig and give me the goose.\\' \\'I ought to have something into the bargain,\\' said the countryman; \\'give a fat goose for a pig, indeed! \\'Tis not everyone would do so much for you as that. However, I will not be hard upon you, as you are in trouble.\\' Then he took the string in his hand, and drove off the pig by a side path; while Hans went on the way homewards free from care. \\'After all,\\' thought he, \\'that chap is pretty well taken in. I don\\'t care whose pig it is, but wherever it came from it has been a very good friend to me. I have much the best of the bargain. First there will be a capital roast; then the fat will find me in goose-grease for six months; and then there are all the beautiful white feathers. I will put them into my pillow, and then I am sure I shall sleep soundly without rocking. How happy my mother will be! Talk of a pig, indeed! Give me a fine fat goose.\\' As he came to the next village, he saw a scissor-grinder with his wheel, working and singing, \\'O\\'er hill and o\\'er dale So happy I roam, Work light and live well, All the world is my home; Then who so blythe, so merry as I?\\' Hans stood looking on for a while, and at last said, \\'You must be well off, master grinder! you seem so happy at your work.\\' \\'Yes,\\' said the other, \\'mine is a golden trade; a good grinder never puts his hand into his pocket without finding money in it--but where did you get that beautiful goose?\\' \\'I did not buy it, I gave a pig for it.\\' \\'And where did you get the pig?\\' \\'I gave a cow for it.\\' \\'And the cow?\\' \\'I gave a horse for it.\\' \\'And the horse?\\' \\'I gave a lump of silver as big as my head for it.\\' \\'And the silver?\\' \\'Oh! I worked hard for that seven long years.\\' \\'You have thriven well in the world hitherto,\\' said the grinder, \\'now if you could find money in your pocket whenever you put your hand in it, your fortune would be made.\\' \\'Very true: but how is that to be managed?\\' \\'How? Why, you must turn grinder like myself,\\' said the other; \\'you only want a grindstone; the rest will come of itself. Here is one that is but little the worse for wear: I would not ask more than the value of your goose for it--will you buy?\\' \\'How can you ask?\\' said Hans; \\'I should be the happiest man in the world, if I could have money whenever I put my hand in my pocket: what could I want more? there\\'s the goose.\\' \\'Now,\\' said the grinder, as he gave him a common rough stone that lay by his side, \\'this is a most capital stone; do but work it well enough, and you can make an old nail cut with it.\\' Hans took the stone, and went his way with a light heart: his eyes sparkled for joy, and he said to himself, \\'Surely I must have been born in a lucky hour; everything I could want or wish for comes of itself. People are so kind; they seem really to think I do them a favour in letting them make me rich, and giving me good bargains.\\' Meantime he began to be tired, and hungry too, for he had given away his last penny in his joy at getting the cow. At last he could go no farther, for the stone tired him sadly: and he dragged himself to the side of a river, that he might take a drink of water, and rest a while. So he laid the stone carefully by his side on the bank: but, as he stooped down to drink, he forgot it, pushed it a little, and down it rolled, plump into the stream. For a while he watched it sinking in the deep clear water; then sprang up and danced for joy, and again fell upon his knees and thanked Heaven, with tears in his eyes, for its kindness in taking away his only plague, the ugly heavy stone. \\'How happy am I!\\' cried he; \\'nobody was ever so lucky as I.\\' Then up he got with a light heart, free from all his troubles, and walked on till he reached his mother\\'s house, and told her how very easy the road to good luck was.']"
       ]
      }
     ],
     "prompt_number": 9
    },
    {
     "cell_type": "heading",
     "level": 3,
     "metadata": {},
     "source": [
      "We need to write a csv file with the chapter text in a single cell, for both the Topic Analysis GUI and Overview."
     ]
    },
    {
     "cell_type": "code",
     "collapsed": false,
     "input": [
      "\n",
      "    \n",
      "def write_tsv(filename, id_dict, chapters_dict):\n",
      "    with open(filename,'w') as output:\n",
      "        output.write('id\\ttext\\n')\n",
      "        for i, chap in chapters_dict.items():\n",
      "            output.write(id_dict[i] + '\\t' + ' '.join(chap) + '\\n')\n"
     ],
     "language": "python",
     "metadata": {},
     "outputs": [],
     "prompt_number": 10
    },
    {
     "cell_type": "code",
     "collapsed": false,
     "input": [
      "write_tsv(\"grimms_tsv.txt\", titles, chaps)"
     ],
     "language": "python",
     "metadata": {},
     "outputs": [],
     "prompt_number": 12
    },
    {
     "cell_type": "heading",
     "level": 3,
     "metadata": {},
     "source": [
      "Open the TSV you wrote out in Excel, delete the first row of headers, and resave as CSV."
     ]
    },
    {
     "cell_type": "heading",
     "level": 4,
     "metadata": {},
     "source": [
      "Digression into some simple parsing - we should skip & come back to this later...."
     ]
    },
    {
     "cell_type": "code",
     "collapsed": false,
     "input": [
      "def base_tag(tag):\n",
      "    tagstart = tag[0:2]\n",
      "    if tagstart == 'NN':\n",
      "        return 'noun'\n",
      "    elif tagstart == 'VB':\n",
      "        return 'verb'\n",
      "    elif tagstart == 'JJ' or tagstart == 'RB':\n",
      "        return 'modifier'\n",
      "    elif tagstart == 'IN':\n",
      "        return 'prep'\n",
      "    else:\n",
      "        return tag\n",
      "\n",
      "def get_tags(text):\n",
      "    from collections import Counter\n",
      "    from pattern.en import tag as ptag\n",
      "    cnt = Counter()\n",
      "    for word, tag in ptag(text):\n",
      "        #print word, tag\n",
      "        cnt[base_tag(tag)] += 1\n",
      "    return cnt\n",
      "    \n",
      "def get_tags_per_chapter(chaps):\n",
      "    # assumes this is a dict coming in - so we can use the same Key for the result dict\n",
      "    stats = {}\n",
      "    for k, v in chaps.items():\n",
      "        stats[k] = get_tags(v[0])   # because it's a list with a single string in it.\n",
      "    return stats\n",
      "    "
     ],
     "language": "python",
     "metadata": {},
     "outputs": [],
     "prompt_number": 137
    },
    {
     "cell_type": "code",
     "collapsed": false,
     "input": [
      "get_tags(chaps[0][0])"
     ],
     "language": "python",
     "metadata": {},
     "outputs": [
      {
       "metadata": {},
       "output_type": "pyout",
       "prompt_number": 139,
       "text": [
        "Counter({'verb': 498, 'noun': 426, 'modifier': 305, u'DT': 299, 'prep': 258, u'PRP': 244, u'CC': 196, u',': 193, u'TO': 91, u'.': 79, u'PRP$': 67, u\"''\": 65, u':': 61, u'MD': 55, u'WRB': 26, u'CD': 24, u'RP': 13, u'POS': 11, u'WDT': 9, u'WP': 8, u'PDT': 6, u'EX': 3, u'UH': 3, u'\"': 2})"
       ]
      }
     ],
     "prompt_number": 139
    },
    {
     "cell_type": "code",
     "collapsed": false,
     "input": [
      "stats = get_tags_per_chapter(chaps)"
     ],
     "language": "python",
     "metadata": {},
     "outputs": [],
     "prompt_number": 140
    },
    {
     "cell_type": "code",
     "collapsed": false,
     "input": [
      "from pattern.en import tag as ptag\n",
      "def tags_by_line(line, inputtag):\n",
      "    tags = []\n",
      "    for word,tag in ptag(line):\n",
      "        if tag == inputtag:\n",
      "            # do something with garbage unicode chars here - but what\n",
      "            tags.append(word)\n",
      "    return tags"
     ],
     "language": "python",
     "metadata": {},
     "outputs": [],
     "prompt_number": 155
    },
    {
     "cell_type": "code",
     "collapsed": false,
     "input": [
      "stats[1]"
     ],
     "language": "python",
     "metadata": {},
     "outputs": [
      {
       "metadata": {},
       "output_type": "pyout",
       "prompt_number": 143,
       "text": [
        "Counter({'verb': 457, 'noun': 430, 'modifier': 302, u'PRP': 271, 'prep': 269, u'DT': 222, u',': 194, u'.': 123, u\"''\": 119, u'CC': 106, u'PRP$': 91, u'MD': 68, u'TO': 52, u':': 50, u'WRB': 28, u'WP': 19, u'POS': 18, u'WDT': 12, u'CD': 10, u'RP': 9, u'PDT': 7, u'UH': 6, u'EX': 5, u'\"': 2, u')': 1, u'(': 1, u'WP$': 1})"
       ]
      }
     ],
     "prompt_number": 143
    },
    {
     "cell_type": "code",
     "collapsed": false,
     "input": [
      "# convert the full text of each chapter to only verbs \n",
      "verbchaps = {}\n",
      "for i, chap in chaps.items():\n",
      "    new = ' '.join(tags_by_line(chap[0], 'VB'))\n",
      "    verbchaps[i] = new"
     ],
     "language": "python",
     "metadata": {},
     "outputs": [],
     "prompt_number": 156
    },
    {
     "cell_type": "code",
     "collapsed": false,
     "input": [
      "verbchaps[0]"
     ],
     "language": "python",
     "metadata": {},
     "outputs": [
      {
       "metadata": {},
       "output_type": "pyout",
       "prompt_number": 162,
       "text": [
        "u'grow keep watch watch keep let come watch have find shoot shoot give find reach get see look go appear be mean such set be come come withstand set seek listen happen prevent go attempt travel run Go take go pass do try take put repent be bring put set die bring run have find do go lie take be put put give be die bring live have give Go arrive go give let lead care suffer go run let take go sleep work give keep have be contrive be say be mount give put take shake lift stay ride bring sit say look see get ride kill cut do beware sit keep be be bestow buy stay think Let sit eat drink eat sing find get have leave kill eat sing walk kill cut be'"
       ]
      }
     ],
     "prompt_number": 162
    },
    {
     "cell_type": "code",
     "collapsed": false,
     "input": [
      "plot([len(x) for x in verbchaps.values()])"
     ],
     "language": "python",
     "metadata": {},
     "outputs": [
      {
       "metadata": {},
       "output_type": "pyout",
       "prompt_number": 163,
       "text": [
        "[<matplotlib.lines.Line2D at 0x9589b50>]"
       ]
      },
      {
       "metadata": {},
       "output_type": "display_data",
       "png": "[encoded data removed]",
       "text": [
        "<matplotlib.figure.Figure at 0x9652190>"
       ]
      }
     ],
     "prompt_number": 163
    },
    {
     "cell_type": "code",
     "collapsed": false,
     "input": [
      "nounchaps = {}\n",
      "for i, chap in chaps.items():\n",
      "    new = ' '.join(tags_by_line(chap[0], 'NN'))\n",
      "    nounchaps[i] = new"
     ],
     "language": "python",
     "metadata": {},
     "outputs": [],
     "prompt_number": 166
    },
    {
     "cell_type": "code",
     "collapsed": false,
     "input": [
      "nounchaps[0]"
     ],
     "language": "python",
     "metadata": {},
     "outputs": [
      {
       "metadata": {},
       "output_type": "pyout",
       "prompt_number": 168,
       "text": [
        "u'Chapter king garden garden tree time night king gardener watch night tree gardener son morning son midnight morning apple son watch gardener fear harm man tree clock rustling noise air bird gold beak gardener son arrow arrow bird harm feather tail feather king morning council Everyone wealth kingdom king feather use bird gardener son set thought bird way wood side wood fox bow fox counsel business bird village evening rest night son thought beast matter arrow fox tail back wood way evening village dancing house place house ease bird country Time son son set thing fox advice brother window merrymaking temptation bird country manner Time son world bird father son luck rest home wood fox counsel fox life fox tail fox stock stone hair wind village son fox counsel inn night ease morning fox journey castle troop notice castle room bird cage cage bird cage one fox tail man stock stone hair wind castle gate fox son chamber bird hung cage cage droll thing bird cage door hold cage bird loud scream prisoner king morning court judge king horse wind bird journey despair friend fox account counsel horse castle horse stall side groom horse leathern saddle one son fox tail stock stone hair wind groom hand saddle son horse pity saddle saddle groom prisoner morning court princess bird horse way fox bird horse counsel evening castle night princess kiss away take leave father mother fox tail stock stone hair castle fox man princess bath kiss leave father moment father house prisoner king king daughter hill view window hill world fox morning hill king princess king word man princess fox princess horse bird man thing fox king princess horse hand leave princess horse clap side gallop fox castle bird princess door king horse bird bird hand fox bird princess wood fox head man fox rate counsel ransom gallows side river man matter advice princess village noise uproar matter way money liberty matter home wood fox side river rest fox counsel side river nothing bank princess horse bird home king master labour horse bird princess son bottom river bed bank way fox advice Yet hold tail river bank watch kingdom man king court horse bird princess king roguery princess king death heir kingdom day wood fox head moment fox man brother princess'"
       ]
      }
     ],
     "prompt_number": 168
    },
    {
     "cell_type": "code",
     "collapsed": false,
     "input": [
      "plot([len(x) for x in nounchaps.values()])"
     ],
     "language": "python",
     "metadata": {},
     "outputs": [
      {
       "metadata": {},
       "output_type": "pyout",
       "prompt_number": 169,
       "text": [
        "[<matplotlib.lines.Line2D at 0x98b1350>]"
       ]
      },
      {
       "metadata": {},
       "output_type": "display_data",
       "png": "[encoded data removed]",
       "text": [
        "<matplotlib.figure.Figure at 0x9631ef0>"
       ]
      }
     ],
     "prompt_number": 169
    },
    {
     "cell_type": "code",
     "collapsed": false,
     "input": [
      "# makes no sense to do this with chunks, since they cross sent boundaries.\n",
      "\n",
      "def get_sent_stats(chaps):\n",
      "    from nltk.tokenize import sent_tokenize\n",
      "    from nltk.tokenize import word_tokenize\n",
      "    sentstats = {}\n",
      "    for k,v in chaps.items():\n",
      "        paras = v[0].count('\\t') # to count paras\n",
      "        sents = sent_tokenize(v[0])\n",
      "        wordcount = []\n",
      "        for sent in sents:\n",
      "            words = word_tokenize(sent)\n",
      "            wordcount.append(len(words))\n",
      "        statsw = {}\n",
      "        statsw['sents'] = len(wordcount)\n",
      "        statsw['wordstotal'] = sum(wordcount)\n",
      "        statsw['paras'] = paras\n",
      "        statsw['minwords'] = min(wordcount)\n",
      "        statsw['maxword'] = max(wordcount)\n",
      "        statsw['avgwords'] = mean(wordcount)\n",
      "        statsw['medwords'] = median(wordcount)\n",
      "        sentstats[k] = statsw\n",
      "    return sentstats"
     ],
     "language": "python",
     "metadata": {},
     "outputs": [],
     "prompt_number": 346
    },
    {
     "cell_type": "code",
     "collapsed": true,
     "input": [
      "sentstats = get_sent_stats(chaps)"
     ],
     "language": "python",
     "metadata": {},
     "outputs": [],
     "prompt_number": 349
    },
    {
     "cell_type": "code",
     "collapsed": false,
     "input": [
      "plot([v['medwords'] for k,v in sentstats.items()])"
     ],
     "language": "python",
     "metadata": {},
     "outputs": [
      {
       "metadata": {},
       "output_type": "pyout",
       "prompt_number": 351,
       "text": [
        "[<matplotlib.lines.Line2D at 0xaa27530>]"
       ]
      },
      {
       "metadata": {},
       "output_type": "display_data",
       "png": "[encoded data removed]",
       "text": [
        "<matplotlib.figure.Figure at 0xaa2f1b0>"
       ]
      }
     ],
     "prompt_number": 351
    },
    {
     "cell_type": "heading",
     "level": 3,
     "metadata": {},
     "source": [
      "Back from the digression:  Use your CSV file in the Topic Modeling GUI, and remember where your output files went:"
     ]
    },
    {
     "cell_type": "code",
     "collapsed": false,
     "input": [
      "import csv\n",
      "import collections\n",
      "\n",
      "dir = 'topic_output/'\n",
      "topic_words = dir + 'Topics_Words.csv'\n",
      "topic_docs = dir + 'TopicsInDocs.csv'\n",
      "docs_topics = dir + 'DocsInTopics.csv'\n"
     ],
     "language": "python",
     "metadata": {},
     "outputs": [],
     "prompt_number": 13
    },
    {
     "cell_type": "code",
     "collapsed": false,
     "input": [
      "# pass in the topic_words filename\n",
      "def list_words_for_topics(filename):\n",
      "    words = []\n",
      "    with open(filename, 'rb') as csvfile:\n",
      "        spamreader = csv.reader(csvfile, delimiter=',', quotechar='\"')\n",
      "        for index, row in enumerate(spamreader):\n",
      "            if index > 0:\n",
      "                words.append([x.strip() for x in row[1].split() if len(x.strip())>0])\n",
      "    return words"
     ],
     "language": "python",
     "metadata": {},
     "outputs": [],
     "prompt_number": 14
    },
    {
     "cell_type": "code",
     "collapsed": false,
     "input": [
      "word_list = list_words_for_topics(topic_words)\n",
      "len(word_list)"
     ],
     "language": "python",
     "metadata": {},
     "outputs": [
      {
       "metadata": {},
       "output_type": "pyout",
       "prompt_number": 16,
       "text": [
        "10"
       ]
      }
     ],
     "prompt_number": 16
    },
    {
     "cell_type": "code",
     "collapsed": false,
     "input": [
      "word_list[9]"
     ],
     "language": "python",
     "metadata": {},
     "outputs": [
      {
       "metadata": {},
       "output_type": "pyout",
       "prompt_number": 18,
       "text": [
        "['king',\n",
        " 'daughter',\n",
        " 'golden',\n",
        " 'queen',\n",
        " 'home',\n",
        " 'beautiful',\n",
        " 'girl',\n",
        " 'cook',\n",
        " 'asked',\n",
        " 'time']"
       ]
      }
     ],
     "prompt_number": 18
    },
    {
     "cell_type": "heading",
     "level": 4,
     "metadata": {},
     "source": [
      "ALERT:  The topic modeling tool will renumber the docs from 1, not 0 like your dicts.  Take this into account when doing mapping/reporting."
     ]
    },
    {
     "cell_type": "code",
     "collapsed": false,
     "input": [
      "# pass in topic_docs\n",
      "def read_doctopics(filename):\n",
      "    docs = []\n",
      "    with open(filename, 'rb') as csvfile:\n",
      "        spamreader = csv.reader(csvfile, delimiter=',', quotechar='\"')\n",
      "        for row in spamreader:\n",
      "            if spamreader.line_num > 1:   # skipping header row\n",
      "                docid = row[0]\n",
      "                topics = row[2:]\n",
      "                topics_dict = dict(zip(topics[::2],topics[1::2]))\n",
      "                print docid, topics_dict\n",
      "                docs.append(collections.defaultdict(list))\n",
      "                docs[-1] = topics_dict\n",
      "    return docs"
     ],
     "language": "python",
     "metadata": {},
     "outputs": [],
     "prompt_number": 19
    },
    {
     "cell_type": "code",
     "collapsed": false,
     "input": [
      "docs_alltopics = read_doctopics(topic_docs)\n",
      "len(docs_alltopics)"
     ],
     "language": "python",
     "metadata": {},
     "outputs": [
      {
       "output_type": "stream",
       "stream": "stdout",
       "text": [
        "1 {'10': '0.111', '1': '0.221', '3': '0.059', '2': '0.061', '4': '0.175', '7': '0.119', '8': '0.198'}\n",
        "2 {'3': '0.284', '2': '0.092', '4': '0.092', '7': '0.116', '6': '0.080', '9': '0.119', '8': '0.128'}\n",
        "3 {'10': '0.119', '1': '0.187', '3': '0.061', '2': '0.058', '5': '0.061', '7': '0.068', '8': '0.332'}\n",
        "4 {'1': '0.057', '3': '0.059', '2': '0.090', '5': '0.075', '4': '0.054', '7': '0.274', '6': '0.240', '8': '0.070'}\n",
        "5 {'3': '0.057', '2': '0.134', '5': '0.180', '4': '0.117', '7': '0.053', '6': '0.092', '9': '0.233', '8': '0.074'}\n",
        "6 {'3': '0.076', '2': '0.111', '5': '0.129', '4': '0.117', '6': '0.298', '9': '0.070', '8': '0.070'}\n",
        "7 {'10': '0.252', '1': '0.097', '3': '0.073', '2': '0.108', '5': '0.071', '4': '0.140', '7': '0.090', '8': '0.133'}\n",
        "8 {'9': '0.083', '8': '0.161', '2': '0.069', '6': '0.491'}\n",
        "9 {'10': '0.163', '1': '0.263', '2': '0.056', '5': '0.052', '7': '0.125', '6': '0.114', '9': '0.076', '8': '0.080'}\n",
        "10 {'9': '0.523', '10': '0.089', '7': '0.162', '8': '0.062'}\n",
        "11 {'10': '0.101', '1': '0.066', '2': '0.066', '5': '0.400', '4': '0.087', '7': '0.063', '8': '0.110'}\n",
        "12 {'10': '0.070', '1': '0.078', '3': '0.054', '5': '0.059', '7': '0.093', '9': '0.173', '8': '0.395'}\n",
        "13 {'1': '0.060', '3': '0.063', '2': '0.101', '5': '0.231', '7': '0.142', '6': '0.291'}\n",
        "14 {'8': '0.559', '3': '0.062', '7': '0.074', '10': '0.148'}\n",
        "15 {'3': '0.131', '2': '0.057', '5': '0.103', '4': '0.213', '7': '0.156', '6': '0.103', '9': '0.078', '8': '0.099'}\n",
        "16 {'9': '0.056', '3': '0.090', '5': '0.167', '4': '0.458', '7': '0.069'}\n",
        "17 {'10': '0.136', '3': '0.063', '5': '0.081', '4': '0.498', '7': '0.086'}\n",
        "18 {'10': '0.123', '1': '0.105', '3': '0.090', '2': '0.069', '5': '0.092', '7': '0.082', '6': '0.071', '9': '0.097', '8': '0.241'}\n",
        "19 {'1': '0.056', '10': '0.080', '5': '0.368', '7': '0.124', '6': '0.236'}\n",
        "20 {'10': '0.068', '1': '0.086', '3': '0.076', '2': '0.072', '5': '0.088', '4': '0.368', '7': '0.138'}\n",
        "21 {'1': '0.066', '3': '0.183', '2': '0.099', '5': '0.354', '7': '0.083', '6': '0.096'}\n",
        "22 {'10': '0.055', '1': '0.184', '2': '0.074', '5': '0.082', '4': '0.059', '7': '0.156', '6': '0.238', '9': '0.059', '8': '0.051'}\n",
        "23 {'10': '0.179', '1': '0.102', '3': '0.286', '5': '0.143', '7': '0.121', '8': '0.071'}\n",
        "24 {'3': '0.116', '2': '0.096', '5': '0.494', '4': '0.066', '7': '0.050', '9': '0.068'}\n",
        "25 {'10': '0.232', '2': '0.134', '5': '0.156', '7': '0.058', '6': '0.251', '8': '0.056'}\n",
        "26 {'1': '0.078', '3': '0.085', '2': '0.053', '5': '0.095', '7': '0.253', '6': '0.077', '9': '0.198', '8': '0.095'}\n",
        "27 {'10': '0.220', '1': '0.173', '3': '0.058', '5': '0.068', '7': '0.136', '6': '0.100', '9': '0.081', '8': '0.089'}\n",
        "28 {'1': '0.058', '3': '0.239', '2': '0.392', '5': '0.051', '6': '0.061', '9': '0.055'}\n",
        "29 {'1': '0.116', '3': '0.186', '2': '0.174', '5': '0.128', '7': '0.174', '6': '0.058', '9': '0.093'}\n",
        "30 {'9': '0.533', '2': '0.108', '7': '0.186', '6': '0.055'}\n",
        "31 {'9': '0.156', '3': '0.064', '2': '0.167', '7': '0.108', '6': '0.337'}\n",
        "32 {'10': '0.259', '1': '0.074', '3': '0.068', '5': '0.175', '7': '0.061', '6': '0.160', '9': '0.063', '8': '0.051'}\n",
        "33 {'10': '0.150', '1': '0.051', '2': '0.051', '5': '0.067', '4': '0.116', '7': '0.064', '9': '0.307', '8': '0.105'}\n",
        "34 {'10': '0.320', '1': '0.114', '3': '0.092', '5': '0.081', '4': '0.090', '7': '0.090', '6': '0.107'}\n",
        "35 {'10': '0.070', '3': '0.229', '2': '0.094', '5': '0.333', '7': '0.077', '6': '0.070', '9': '0.056'}\n",
        "36 {'1': '0.085', '2': '0.060', '4': '0.141', '7': '0.168', '6': '0.364', '8': '0.080'}\n",
        "37 {'10': '0.450', '1': '0.166', '3': '0.072', '5': '0.051', '7': '0.067', '8': '0.105'}\n",
        "38 {'10': '0.142', '1': '0.088', '3': '0.095', '2': '0.116', '5': '0.054', '4': '0.079', '7': '0.229', '6': '0.079', '8': '0.093'}\n",
        "39 {'9': '0.218', '3': '0.116', '5': '0.380', '4': '0.073', '7': '0.075'}\n",
        "40 {'10': '0.106', '1': '0.316', '2': '0.160', '4': '0.061', '7': '0.152', '8': '0.065'}\n",
        "41 {'1': '0.073', '3': '0.240', '2': '0.082', '4': '0.077', '7': '0.270', '9': '0.099', '8': '0.064'}\n",
        "42 {'1': '0.400', '9': '0.060', '3': '0.295', '5': '0.088'}\n",
        "43 {'10': '0.074', '1': '0.095', '3': '0.074', '2': '0.062', '5': '0.079', '7': '0.108', '6': '0.097', '9': '0.087', '8': '0.282'}\n",
        "44 {'3': '0.916'}\n",
        "45 {'10': '0.063', '1': '0.136', '3': '0.063', '2': '0.352', '7': '0.115', '9': '0.111'}\n",
        "46 {'1': '0.057', '2': '0.170', '5': '0.170', '4': '0.292', '7': '0.075', '9': '0.075', '8': '0.085'}\n",
        "47 {'1': '0.212', '8': '0.100', '2': '0.071', '4': '0.237', '7': '0.193'}\n",
        "48 {'10': '0.165', '1': '0.124', '5': '0.108', '4': '0.105', '7': '0.208', '8': '0.201'}\n",
        "49 {'10': '0.060', '1': '0.089', '3': '0.054', '2': '0.119', '4': '0.137', '7': '0.113', '6': '0.095', '9': '0.065', '8': '0.220'}\n",
        "50 {'10': '0.110', '3': '0.062', '2': '0.080', '5': '0.055', '7': '0.219', '6': '0.306'}\n",
        "51 {'10': '0.073', '1': '0.188', '2': '0.121', '5': '0.084', '4': '0.122', '7': '0.191', '6': '0.104', '8': '0.074'}\n",
        "52 {'10': '0.078', '1': '0.072', '3': '0.105', '2': '0.417', '5': '0.080', '4': '0.060', '7': '0.096'}\n",
        "53 {'10': '0.138', '1': '0.308', '2': '0.077', '4': '0.080', '7': '0.138', '8': '0.181'}\n",
        "54 {'1': '0.173', '10': '0.460', '5': '0.067', '4': '0.114', '7': '0.059'}\n",
        "55 {'10': '0.124', '1': '0.278', '3': '0.070', '4': '0.085', '7': '0.150', '9': '0.054', '8': '0.150'}\n",
        "56 {'9': '0.139', '2': '0.073', '4': '0.363', '7': '0.192', '6': '0.065'}\n",
        "57 {'10': '0.100', '1': '0.183', '2': '0.116', '4': '0.179', '7': '0.116', '9': '0.073', '8': '0.103'}\n",
        "58 {'9': '0.094', '8': '0.074', '2': '0.128', '5': '0.168', '4': '0.403'}\n",
        "59 {'10': '0.060', '2': '0.140', '5': '0.253', '4': '0.260', '7': '0.073', '6': '0.060', '9': '0.060'}\n",
        "60 {'1': '0.226', '3': '0.058', '2': '0.055', '5': '0.055', '4': '0.106', '7': '0.135', '6': '0.052', '9': '0.119', '8': '0.154'}\n",
        "61 {'10': '0.068', '1': '0.085', '3': '0.071', '2': '0.430', '4': '0.050', '7': '0.121', '9': '0.060'}\n",
        "62 {'10': '0.274', '1': '0.102', '2': '0.151', '7': '0.109', '6': '0.074', '9': '0.083', '8': '0.087'}\n",
        "63 {'10': '0.337', '3': '0.113', '2': '0.095', '5': '0.085', '7': '0.173'}\n",
        "64 {'10': '0.538', '1': '0.090', '5': '0.069', '4': '0.053', '7': '0.065', '8': '0.054'}\n",
        "65 {'1': '0.082', '3': '0.051', '2': '0.147', '5': '0.386', '7': '0.105', '9': '0.082'}\n"
       ]
      },
      {
       "metadata": {},
       "output_type": "pyout",
       "prompt_number": 21,
       "text": [
        "65"
       ]
      }
     ],
     "prompt_number": 21
    },
    {
     "cell_type": "code",
     "collapsed": false,
     "input": [
      "len(docs_alltopics)"
     ],
     "language": "python",
     "metadata": {},
     "outputs": [
      {
       "metadata": {},
       "output_type": "pyout",
       "prompt_number": 22,
       "text": [
        "65"
       ]
      }
     ],
     "prompt_number": 22
    },
    {
     "cell_type": "code",
     "collapsed": false,
     "input": [
      "docs_alltopics[0]"
     ],
     "language": "python",
     "metadata": {},
     "outputs": [
      {
       "metadata": {},
       "output_type": "pyout",
       "prompt_number": 23,
       "text": [
        "{'1': '0.221',\n",
        " '10': '0.111',\n",
        " '2': '0.061',\n",
        " '3': '0.059',\n",
        " '4': '0.175',\n",
        " '7': '0.119',\n",
        " '8': '0.198'}"
       ]
      }
     ],
     "prompt_number": 23
    },
    {
     "cell_type": "code",
     "collapsed": false,
     "input": [
      "# Make a simple csv format\n",
      "\n",
      "print \"Doc,Topic,Score,Title\"\n",
      "for x in range(0, len(docs_alltopics)):\n",
      "    #print x, docs_alltopics[x].keys()\n",
      "    for topic in docs_alltopics[x].keys():\n",
      "        print ','.join([str(x), topic, docs_alltopics[x][topic],titles[x]])"
     ],
     "language": "python",
     "metadata": {},
     "outputs": [
      {
       "output_type": "stream",
       "stream": "stdout",
       "text": [
        "Doc,Topic,Score,Title\n",
        "0,10,0.111,THE GOLDEN BIRD\n",
        "0,1,0.221,THE GOLDEN BIRD\n",
        "0,3,0.059,THE GOLDEN BIRD\n",
        "0,2,0.061,THE GOLDEN BIRD\n",
        "0,4,0.175,THE GOLDEN BIRD\n",
        "0,7,0.119,THE GOLDEN BIRD\n",
        "0,8,0.198,THE GOLDEN BIRD\n",
        "1,3,0.284,HANS IN LUCK\n",
        "1,2,0.092,HANS IN LUCK\n",
        "1,4,0.092,HANS IN LUCK\n",
        "1,7,0.116,HANS IN LUCK\n",
        "1,6,0.080,HANS IN LUCK\n",
        "1,9,0.119,HANS IN LUCK\n",
        "1,8,0.128,HANS IN LUCK\n",
        "2,10,0.119,JORINDA AND JORINDEL\n",
        "2,1,0.187,JORINDA AND JORINDEL\n",
        "2,3,0.061,JORINDA AND JORINDEL\n",
        "2,2,0.058,JORINDA AND JORINDEL\n",
        "2,5,0.061,JORINDA AND JORINDEL\n",
        "2,7,0.068,JORINDA AND JORINDEL\n",
        "2,8,0.332,JORINDA AND JORINDEL\n",
        "3,1,0.057,THE TRAVELLING MUSICIANS\n",
        "3,3,0.059,THE TRAVELLING MUSICIANS\n",
        "3,2,0.090,THE TRAVELLING MUSICIANS\n",
        "3,5,0.075,THE TRAVELLING MUSICIANS\n",
        "3,4,0.054,THE TRAVELLING MUSICIANS\n",
        "3,7,0.274,THE TRAVELLING MUSICIANS\n",
        "3,6,0.240,THE TRAVELLING MUSICIANS\n",
        "3,8,0.070,THE TRAVELLING MUSICIANS\n",
        "4,3,0.057,OLD SULTAN\n",
        "4,2,0.134,OLD SULTAN\n",
        "4,5,0.180,OLD SULTAN\n",
        "4,4,0.117,OLD SULTAN\n",
        "4,7,0.053,OLD SULTAN\n",
        "4,6,0.092,OLD SULTAN\n",
        "4,9,0.233,OLD SULTAN\n",
        "4,8,0.074,OLD SULTAN\n",
        "5,3,0.076,THE STRAW, THE COAL, AND THE BEAN\n",
        "5,2,0.111,THE STRAW, THE COAL, AND THE BEAN\n",
        "5,5,0.129,THE STRAW, THE COAL, AND THE BEAN\n",
        "5,4,0.117,THE STRAW, THE COAL, AND THE BEAN\n",
        "5,6,0.298,THE STRAW, THE COAL, AND THE BEAN\n",
        "5,9,0.070,THE STRAW, THE COAL, AND THE BEAN\n",
        "5,8,0.070,THE STRAW, THE COAL, AND THE BEAN\n",
        "6,10,0.252,BRIAR ROSE\n",
        "6,1,0.097,BRIAR ROSE\n",
        "6,3,0.073,BRIAR ROSE\n",
        "6,2,0.108,BRIAR ROSE\n",
        "6,5,0.071,BRIAR ROSE\n",
        "6,4,0.140,BRIAR ROSE\n",
        "6,7,0.090,BRIAR ROSE\n",
        "6,8,0.133,BRIAR ROSE\n",
        "7,9,0.083,THE DOG AND THE SPARROW\n",
        "7,8,0.161,THE DOG AND THE SPARROW\n",
        "7,2,0.069,THE DOG AND THE SPARROW\n",
        "7,6,0.491,THE DOG AND THE SPARROW\n",
        "8,10,0.163,THE TWELVE DANCING PRINCESSES\n",
        "8,1,0.263,THE TWELVE DANCING PRINCESSES\n",
        "8,2,0.056,THE TWELVE DANCING PRINCESSES\n",
        "8,5,0.052,THE TWELVE DANCING PRINCESSES\n",
        "8,7,0.125,THE TWELVE DANCING PRINCESSES\n",
        "8,6,0.114,THE TWELVE DANCING PRINCESSES\n",
        "8,9,0.076,THE TWELVE DANCING PRINCESSES\n",
        "8,8,0.080,THE TWELVE DANCING PRINCESSES\n",
        "9,9,0.523,THE FISHERMAN AND HIS WIFE\n",
        "9,10,0.089,THE FISHERMAN AND HIS WIFE\n",
        "9,7,0.162,THE FISHERMAN AND HIS WIFE\n",
        "9,8,0.062,THE FISHERMAN AND HIS WIFE\n",
        "10,10,0.101,THE WILLOW-WREN AND THE BEAR\n",
        "10,1,0.066,THE WILLOW-WREN AND THE BEAR\n",
        "10,2,0.066,THE WILLOW-WREN AND THE BEAR\n",
        "10,5,0.400,THE WILLOW-WREN AND THE BEAR\n",
        "10,4,0.087,THE WILLOW-WREN AND THE BEAR\n",
        "10,7,0.063,THE WILLOW-WREN AND THE BEAR\n",
        "10,8,0.110,THE WILLOW-WREN AND THE BEAR\n",
        "11,10,0.070,THE FROG-PRINCE\n",
        "11,1,0.078,THE FROG-PRINCE\n",
        "11,3,0.054,THE FROG-PRINCE\n",
        "11,5,0.059,THE FROG-PRINCE\n",
        "11,7,0.093,THE FROG-PRINCE\n",
        "11,9,0.173,THE FROG-PRINCE\n",
        "11,8,0.395,THE FROG-PRINCE\n",
        "12,1,0.060,CAT AND MOUSE IN PARTNERSHIP\n",
        "12,3,0.063,CAT AND MOUSE IN PARTNERSHIP\n",
        "12,2,0.101,CAT AND MOUSE IN PARTNERSHIP\n",
        "12,5,0.231,CAT AND MOUSE IN PARTNERSHIP\n",
        "12,7,0.142,CAT AND MOUSE IN PARTNERSHIP\n",
        "12,6,0.291,CAT AND MOUSE IN PARTNERSHIP\n",
        "13,8,0.559,THE GOOSE-GIRL\n",
        "13,3,0.062,THE GOOSE-GIRL\n",
        "13,7,0.074,THE GOOSE-GIRL\n",
        "13,10,0.148,THE GOOSE-GIRL\n",
        "14,3,0.131,Chanticleer 1. HOW THEY WENT TO THE MOUNTAINS TO EAT NUTS\n",
        "14,2,0.057,Chanticleer 1. HOW THEY WENT TO THE MOUNTAINS TO EAT NUTS\n",
        "14,5,0.103,Chanticleer 1. HOW THEY WENT TO THE MOUNTAINS TO EAT NUTS\n",
        "14,4,0.213,Chanticleer 1. HOW THEY WENT TO THE MOUNTAINS TO EAT NUTS\n",
        "14,7,0.156,Chanticleer 1. HOW THEY WENT TO THE MOUNTAINS TO EAT NUTS\n",
        "14,6,0.103,Chanticleer 1. HOW THEY WENT TO THE MOUNTAINS TO EAT NUTS\n",
        "14,9,0.078,Chanticleer 1. HOW THEY WENT TO THE MOUNTAINS TO EAT NUTS\n",
        "14,8,0.099,Chanticleer 1. HOW THEY WENT TO THE MOUNTAINS TO EAT NUTS\n",
        "15,9,0.056,Chanticleer 2. HOW CHANTICLEER AND PARTLET WENT TO VISIT MR KORBES\n",
        "15,3,0.090,Chanticleer 2. HOW CHANTICLEER AND PARTLET WENT TO VISIT MR KORBES\n",
        "15,5,0.167,Chanticleer 2. HOW CHANTICLEER AND PARTLET WENT TO VISIT MR KORBES\n",
        "15,4,0.458,Chanticleer 2. HOW CHANTICLEER AND PARTLET WENT TO VISIT MR KORBES\n",
        "15,7,0.069,Chanticleer 2. HOW CHANTICLEER AND PARTLET WENT TO VISIT MR KORBES\n",
        "16,10,0.136,Chanticleer 3. HOW PARTLET DIED AND WAS BURIED, AND HOW CHANTICLEER DIED OF GRIEF\n",
        "16,3,0.063,Chanticleer 3. HOW PARTLET DIED AND WAS BURIED, AND HOW CHANTICLEER DIED OF GRIEF\n",
        "16,5,0.081,Chanticleer 3. HOW PARTLET DIED AND WAS BURIED, AND HOW CHANTICLEER DIED OF GRIEF\n",
        "16,4,0.498,Chanticleer 3. HOW PARTLET DIED AND WAS BURIED, AND HOW CHANTICLEER DIED OF GRIEF\n",
        "16,7,0.086,Chanticleer 3. HOW PARTLET DIED AND WAS BURIED, AND HOW CHANTICLEER DIED OF GRIEF\n",
        "17,10,0.123,RAPUNZEL\n",
        "17,1,0.105,RAPUNZEL\n",
        "17,3,0.090,RAPUNZEL\n",
        "17,2,0.069,RAPUNZEL\n",
        "17,5,0.092,RAPUNZEL\n",
        "17,7,0.082,RAPUNZEL\n",
        "17,6,0.071,RAPUNZEL\n",
        "17,9,0.097,RAPUNZEL\n",
        "17,8,0.241,RAPUNZEL\n",
        "18,1,0.056,FUNDEVOGEL\n",
        "18,10,0.080,FUNDEVOGEL\n",
        "18,5,0.368,FUNDEVOGEL\n",
        "18,7,0.124,FUNDEVOGEL\n",
        "18,6,0.236,FUNDEVOGEL\n",
        "19,10,0.068,THE VALIANT LITTLE TAILOR\n",
        "19,1,0.086,THE VALIANT LITTLE TAILOR\n",
        "19,3,0.076,THE VALIANT LITTLE TAILOR\n",
        "19,2,0.072,THE VALIANT LITTLE TAILOR\n",
        "19,5,0.088,THE VALIANT LITTLE TAILOR\n",
        "19,4,0.368,THE VALIANT LITTLE TAILOR\n",
        "19,7,0.138,THE VALIANT LITTLE TAILOR\n",
        "20,1,0.066,HANSEL AND GRETEL\n",
        "20,3,0.183,HANSEL AND GRETEL\n",
        "20,2,0.099,HANSEL AND GRETEL\n",
        "20,5,0.354,HANSEL AND GRETEL\n",
        "20,7,0.083,HANSEL AND GRETEL\n",
        "20,6,0.096,HANSEL AND GRETEL\n",
        "21,10,0.055,THE MOUSE, THE BIRD, AND THE SAUSAGE\n",
        "21,1,0.184,THE MOUSE, THE BIRD, AND THE SAUSAGE\n",
        "21,2,0.074,THE MOUSE, THE BIRD, AND THE SAUSAGE\n",
        "21,5,0.082,THE MOUSE, THE BIRD, AND THE SAUSAGE\n",
        "21,4,0.059,THE MOUSE, THE BIRD, AND THE SAUSAGE\n",
        "21,7,0.156,THE MOUSE, THE BIRD, AND THE SAUSAGE\n",
        "21,6,0.238,THE MOUSE, THE BIRD, AND THE SAUSAGE\n",
        "21,9,0.059,THE MOUSE, THE BIRD, AND THE SAUSAGE\n",
        "21,8,0.051,THE MOUSE, THE BIRD, AND THE SAUSAGE\n",
        "22,10,0.179,MOTHER HOLLE\n",
        "22,1,0.102,MOTHER HOLLE\n",
        "22,3,0.286,MOTHER HOLLE\n",
        "22,5,0.143,MOTHER HOLLE\n",
        "22,7,0.121,MOTHER HOLLE\n",
        "22,8,0.071,MOTHER HOLLE\n",
        "23,3,0.116,LITTLE RED-CAP [LITTLE RED RIDING HOOD]\n",
        "23,2,0.096,LITTLE RED-CAP [LITTLE RED RIDING HOOD]\n",
        "23,5,0.494,LITTLE RED-CAP [LITTLE RED RIDING HOOD]\n",
        "23,4,0.066,LITTLE RED-CAP [LITTLE RED RIDING HOOD]\n",
        "23,7,0.050,LITTLE RED-CAP [LITTLE RED RIDING HOOD]\n",
        "23,9,0.068,LITTLE RED-CAP [LITTLE RED RIDING HOOD]\n",
        "24,10,0.232,THE ROBBER BRIDEGROOM\n",
        "24,2,0.134,THE ROBBER BRIDEGROOM\n",
        "24,5,0.156,THE ROBBER BRIDEGROOM\n",
        "24,7,0.058,THE ROBBER BRIDEGROOM\n",
        "24,6,0.251,THE ROBBER BRIDEGROOM\n",
        "24,8,0.056,THE ROBBER BRIDEGROOM\n",
        "25,1,0.078,TOM THUMB\n",
        "25,3,0.085,TOM THUMB\n",
        "25,2,0.053,TOM THUMB\n",
        "25,5,0.095,TOM THUMB\n",
        "25,7,0.253,TOM THUMB\n",
        "25,6,0.077,TOM THUMB\n",
        "25,9,0.198,TOM THUMB\n",
        "25,8,0.095,TOM THUMB\n",
        "26,10,0.220,RUMPELSTILTSKIN\n",
        "26,1,0.173,RUMPELSTILTSKIN\n",
        "26,3,0.058,RUMPELSTILTSKIN\n",
        "26,5,0.068,RUMPELSTILTSKIN\n",
        "26,7,0.136,RUMPELSTILTSKIN\n",
        "26,6,0.100,RUMPELSTILTSKIN\n",
        "26,9,0.081,RUMPELSTILTSKIN\n",
        "26,8,0.089,RUMPELSTILTSKIN\n",
        "27,1,0.058,CLEVER GRETEL\n",
        "27,3,0.239,CLEVER GRETEL\n",
        "27,2,0.392,CLEVER GRETEL\n",
        "27,5,0.051,CLEVER GRETEL\n",
        "27,6,0.061,CLEVER GRETEL\n",
        "27,9,0.055,CLEVER GRETEL\n",
        "28,1,0.116,THE OLD MAN AND HIS GRANDSON\n",
        "28,3,0.186,THE OLD MAN AND HIS GRANDSON\n",
        "28,2,0.174,THE OLD MAN AND HIS GRANDSON\n",
        "28,5,0.128,THE OLD MAN AND HIS GRANDSON\n",
        "28,7,0.174,THE OLD MAN AND HIS GRANDSON\n",
        "28,6,0.058,THE OLD MAN AND HIS GRANDSON\n",
        "28,9,0.093,THE OLD MAN AND HIS GRANDSON\n",
        "29,9,0.533,THE LITTLE PEASANT\n",
        "29,2,0.108,THE LITTLE PEASANT\n",
        "29,7,0.186,THE LITTLE PEASANT\n",
        "29,6,0.055,THE LITTLE PEASANT\n",
        "30,9,0.156,FREDERICK AND CATHERINE\n",
        "30,3,0.064,FREDERICK AND CATHERINE\n",
        "30,2,0.167,FREDERICK AND CATHERINE\n",
        "30,7,0.108,FREDERICK AND CATHERINE\n",
        "30,6,0.337,FREDERICK AND CATHERINE\n",
        "31,10,0.259,SWEETHEART ROLAND\n",
        "31,1,0.074,SWEETHEART ROLAND\n",
        "31,3,0.068,SWEETHEART ROLAND\n",
        "31,5,0.175,SWEETHEART ROLAND\n",
        "31,7,0.061,SWEETHEART ROLAND\n",
        "31,6,0.160,SWEETHEART ROLAND\n",
        "31,9,0.063,SWEETHEART ROLAND\n",
        "31,8,0.051,SWEETHEART ROLAND\n",
        "32,10,0.150,SNOWDROP\n",
        "32,1,0.051,SNOWDROP\n",
        "32,2,0.051,SNOWDROP\n",
        "32,5,0.067,SNOWDROP\n",
        "32,4,0.116,SNOWDROP\n",
        "32,7,0.064,SNOWDROP\n",
        "32,9,0.307,SNOWDROP\n",
        "32,8,0.105,SNOWDROP\n",
        "33,10,0.320,THE PINK\n",
        "33,1,0.114,THE PINK\n",
        "33,3,0.092,THE PINK\n",
        "33,5,0.081,THE PINK\n",
        "33,4,0.090,THE PINK\n",
        "33,7,0.090,THE PINK\n",
        "33,6,0.107,THE PINK\n",
        "34,10,0.070,CLEVER ELSIE\n",
        "34,3,0.229,CLEVER ELSIE\n",
        "34,2,0.094,CLEVER ELSIE\n",
        "34,5,0.333,CLEVER ELSIE\n",
        "34,7,0.077,CLEVER ELSIE\n",
        "34,6,0.070,CLEVER ELSIE\n",
        "34,9,0.056,CLEVER ELSIE\n",
        "35,1,0.085,THE MISER IN THE BUSH\n",
        "35,2,0.060,THE MISER IN THE BUSH\n",
        "35,4,0.141,THE MISER IN THE BUSH\n",
        "35,7,0.168,THE MISER IN THE BUSH\n",
        "35,6,0.364,THE MISER IN THE BUSH\n",
        "35,8,0.080,THE MISER IN THE BUSH\n",
        "36,10,0.450,ASHPUTTEL\n",
        "36,1,0.166,ASHPUTTEL\n",
        "36,3,0.072,ASHPUTTEL\n",
        "36,5,0.051,ASHPUTTEL\n",
        "36,7,0.067,ASHPUTTEL\n",
        "36,8,0.105,ASHPUTTEL\n",
        "37,10,0.142,THE WHITE SNAKE\n",
        "37,1,0.088,THE WHITE SNAKE\n",
        "37,3,0.095,THE WHITE SNAKE\n",
        "37,2,0.116,THE WHITE SNAKE\n",
        "37,5,0.054,THE WHITE SNAKE\n",
        "37,4,0.079,THE WHITE SNAKE\n",
        "37,7,0.229,THE WHITE SNAKE\n",
        "37,6,0.079,THE WHITE SNAKE\n",
        "37,8,0.093,THE WHITE SNAKE\n",
        "38,9,0.218,THE WOLF AND THE SEVEN LITTLE KIDS\n",
        "38,3,0.116,THE WOLF AND THE SEVEN LITTLE KIDS\n",
        "38,5,0.380,THE WOLF AND THE SEVEN LITTLE KIDS\n",
        "38,4,0.073,THE WOLF AND THE SEVEN LITTLE KIDS\n",
        "38,7,0.075,THE WOLF AND THE SEVEN LITTLE KIDS\n",
        "39,10,0.106,THE QUEEN BEE\n",
        "39,1,0.316,THE QUEEN BEE\n",
        "39,2,0.160,THE QUEEN BEE\n",
        "39,4,0.061,THE QUEEN BEE\n",
        "39,7,0.152,THE QUEEN BEE\n",
        "39,8,0.065,THE QUEEN BEE\n",
        "40,1,0.073,THE ELVES AND THE SHOEMAKER\n",
        "40,3,0.240,THE ELVES AND THE SHOEMAKER\n",
        "40,2,0.082,THE ELVES AND THE SHOEMAKER\n",
        "40,4,0.077,THE ELVES AND THE SHOEMAKER\n",
        "40,7,0.270,THE ELVES AND THE SHOEMAKER\n",
        "40,9,0.099,THE ELVES AND THE SHOEMAKER\n",
        "40,8,0.064,THE ELVES AND THE SHOEMAKER\n",
        "41,1,0.400,THE JUNIPER-TREE\n",
        "41,9,0.060,THE JUNIPER-TREE\n",
        "41,3,0.295,THE JUNIPER-TREE\n",
        "41,5,0.088,THE JUNIPER-TREE\n",
        "42,10,0.074,THE TURNIP\n",
        "42,1,0.095,THE TURNIP\n",
        "42,3,0.074,THE TURNIP\n",
        "42,2,0.062,THE TURNIP\n",
        "42,5,0.079,THE TURNIP\n",
        "42,7,0.108,THE TURNIP\n",
        "42,6,0.097,THE TURNIP\n",
        "42,9,0.087,THE TURNIP\n",
        "42,8,0.282,THE TURNIP\n",
        "43,3,0.916,CLEVER HANS\n",
        "44,10,0.063,THE THREE LANGUAGES\n",
        "44,1,0.136,THE THREE LANGUAGES\n",
        "44,3,0.063,THE THREE LANGUAGES\n",
        "44,2,0.352,THE THREE LANGUAGES\n",
        "44,7,0.115,THE THREE LANGUAGES\n",
        "44,9,0.111,THE THREE LANGUAGES\n",
        "45,1,0.057,THE FOX AND THE CAT\n",
        "45,2,0.170,THE FOX AND THE CAT\n",
        "45,5,0.170,THE FOX AND THE CAT\n",
        "45,4,0.292,THE FOX AND THE CAT\n",
        "45,7,0.075,THE FOX AND THE CAT\n",
        "45,9,0.075,THE FOX AND THE CAT\n",
        "45,8,0.085,THE FOX AND THE CAT\n",
        "46,1,0.212,THE FOUR CLEVER BROTHERS\n",
        "46,8,0.100,THE FOUR CLEVER BROTHERS\n",
        "46,2,0.071,THE FOUR CLEVER BROTHERS\n",
        "46,4,0.237,THE FOUR CLEVER BROTHERS\n",
        "46,7,0.193,THE FOUR CLEVER BROTHERS\n",
        "47,10,0.165,LILY AND THE LION\n",
        "47,1,0.124,LILY AND THE LION\n",
        "47,5,0.108,LILY AND THE LION\n",
        "47,4,0.105,LILY AND THE LION\n",
        "47,7,0.208,LILY AND THE LION\n",
        "47,8,0.201,LILY AND THE LION\n",
        "48,10,0.060,THE FOX AND THE HORSE\n",
        "48,1,0.089,THE FOX AND THE HORSE\n",
        "48,3,0.054,THE FOX AND THE HORSE\n",
        "48,2,0.119,THE FOX AND THE HORSE\n",
        "48,4,0.137,THE FOX AND THE HORSE\n",
        "48,7,0.113,THE FOX AND THE HORSE\n",
        "48,6,0.095,THE FOX AND THE HORSE\n",
        "48,9,0.065,THE FOX AND THE HORSE\n",
        "48,8,0.220,THE FOX AND THE HORSE\n",
        "49,10,0.110,THE BLUE LIGHT\n",
        "49,3,0.062,THE BLUE LIGHT\n",
        "49,2,0.080,THE BLUE LIGHT\n",
        "49,5,0.055,THE BLUE LIGHT\n",
        "49,7,0.219,THE BLUE LIGHT\n",
        "49,6,0.306,THE BLUE LIGHT\n",
        "50,10,0.073,THE RAVEN\n",
        "50,1,0.188,THE RAVEN\n",
        "50,2,0.121,THE RAVEN\n",
        "50,5,0.084,THE RAVEN\n",
        "50,4,0.122,THE RAVEN\n",
        "50,7,0.191,THE RAVEN\n",
        "50,6,0.104,THE RAVEN\n",
        "50,8,0.074,THE RAVEN\n",
        "51,10,0.078,THE GOLDEN GOOSE\n",
        "51,1,0.072,THE GOLDEN GOOSE\n",
        "51,3,0.105,THE GOLDEN GOOSE\n",
        "51,2,0.417,THE GOLDEN GOOSE\n",
        "51,5,0.080,THE GOLDEN GOOSE\n",
        "51,4,0.060,THE GOLDEN GOOSE\n",
        "51,7,0.096,THE GOLDEN GOOSE\n",
        "52,10,0.138,THE WATER OF LIFE\n",
        "52,1,0.308,THE WATER OF LIFE\n",
        "52,2,0.077,THE WATER OF LIFE\n",
        "52,4,0.080,THE WATER OF LIFE\n",
        "52,7,0.138,THE WATER OF LIFE\n",
        "52,8,0.181,THE WATER OF LIFE\n",
        "53,1,0.173,THE TWELVE HUNTSMEN\n",
        "53,10,0.460,THE TWELVE HUNTSMEN\n",
        "53,5,0.067,THE TWELVE HUNTSMEN\n",
        "53,4,0.114,THE TWELVE HUNTSMEN\n",
        "53,7,0.059,THE TWELVE HUNTSMEN\n",
        "54,10,0.124,THE KING OF THE GOLDEN MOUNTAIN\n",
        "54,1,0.278,THE KING OF THE GOLDEN MOUNTAIN\n",
        "54,3,0.070,THE KING OF THE GOLDEN MOUNTAIN\n",
        "54,4,0.085,THE KING OF THE GOLDEN MOUNTAIN\n",
        "54,7,0.150,THE KING OF THE GOLDEN MOUNTAIN\n",
        "54,9,0.054,THE KING OF THE GOLDEN MOUNTAIN\n",
        "54,8,0.150,THE KING OF THE GOLDEN MOUNTAIN\n",
        "55,9,0.139,DOCTOR KNOWALL\n",
        "55,2,0.073,DOCTOR KNOWALL\n",
        "55,4,0.363,DOCTOR KNOWALL\n",
        "55,7,0.192,DOCTOR KNOWALL\n",
        "55,6,0.065,DOCTOR KNOWALL\n",
        "56,10,0.100,THE SEVEN RAVENS\n",
        "56,1,0.183,THE SEVEN RAVENS\n",
        "56,2,0.116,THE SEVEN RAVENS\n",
        "56,4,0.179,THE SEVEN RAVENS\n",
        "56,7,0.116,THE SEVEN RAVENS\n",
        "56,9,0.073,THE SEVEN RAVENS\n",
        "56,8,0.103,THE SEVEN RAVENS\n",
        "57,9,0.094,THE WEDDING OF MRS FOX:FIRST STORY\n",
        "57,8,0.074,THE WEDDING OF MRS FOX:FIRST STORY\n",
        "57,2,0.128,THE WEDDING OF MRS FOX:FIRST STORY\n",
        "57,5,0.168,THE WEDDING OF MRS FOX:FIRST STORY\n",
        "57,4,0.403,THE WEDDING OF MRS FOX:FIRST STORY\n",
        "58,10,0.060,THE WEDDING OF MRS FOX:SECOND STORY\n",
        "58,2,0.140,THE WEDDING OF MRS FOX:SECOND STORY\n",
        "58,5,0.253,THE WEDDING OF MRS FOX:SECOND STORY\n",
        "58,4,0.260,THE WEDDING OF MRS FOX:SECOND STORY\n",
        "58,7,0.073,THE WEDDING OF MRS FOX:SECOND STORY\n",
        "58,6,0.060,THE WEDDING OF MRS FOX:SECOND STORY\n",
        "58,9,0.060,THE WEDDING OF MRS FOX:SECOND STORY\n",
        "59,1,0.226,THE SALAD\n",
        "59,3,0.058,THE SALAD\n",
        "59,2,0.055,THE SALAD\n",
        "59,5,0.055,THE SALAD\n",
        "59,4,0.106,THE SALAD\n",
        "59,7,0.135,THE SALAD\n",
        "59,6,0.052,THE SALAD\n",
        "59,9,0.119,THE SALAD\n",
        "59,8,0.154,THE SALAD\n",
        "60,10,0.068,THE STORY OF THE YOUTH WHO WENT FORTH TO LEARN WHAT FEAR WAS\n",
        "60,1,0.085,THE STORY OF THE YOUTH WHO WENT FORTH TO LEARN WHAT FEAR WAS\n",
        "60,3,0.071,THE STORY OF THE YOUTH WHO WENT FORTH TO LEARN WHAT FEAR WAS\n",
        "60,2,0.430,THE STORY OF THE YOUTH WHO WENT FORTH TO LEARN WHAT FEAR WAS\n",
        "60,4,0.050,THE STORY OF THE YOUTH WHO WENT FORTH TO LEARN WHAT FEAR WAS\n",
        "60,7,0.121,THE STORY OF THE YOUTH WHO WENT FORTH TO LEARN WHAT FEAR WAS\n",
        "60,9,0.060,THE STORY OF THE YOUTH WHO WENT FORTH TO LEARN WHAT FEAR WAS\n",
        "61,10,0.274,KING GRISLY-BEARD\n",
        "61,1,0.102,KING GRISLY-BEARD\n",
        "61,2,0.151,KING GRISLY-BEARD\n",
        "61,7,0.109,KING GRISLY-BEARD\n",
        "61,6,0.074,KING GRISLY-BEARD\n",
        "61,9,0.083,KING GRISLY-BEARD\n",
        "61,8,0.087,KING GRISLY-BEARD\n",
        "62,10,0.337,IRON HANS\n",
        "62,3,0.113,IRON HANS\n",
        "62,2,0.095,IRON HANS\n",
        "62,5,0.085,IRON HANS\n",
        "62,7,0.173,IRON HANS\n",
        "63,10,0.538,CAT-SKIN\n",
        "63,1,0.090,CAT-SKIN\n",
        "63,5,0.069,CAT-SKIN\n",
        "63,4,0.053,CAT-SKIN\n",
        "63,7,0.065,CAT-SKIN\n",
        "63,8,0.054,CAT-SKIN\n",
        "64,1,0.082,SNOW-WHITE AND ROSE-RED\n",
        "64,3,0.051,SNOW-WHITE AND ROSE-RED\n",
        "64,2,0.147,SNOW-WHITE AND ROSE-RED\n",
        "64,5,0.386,SNOW-WHITE AND ROSE-RED\n",
        "64,7,0.105,SNOW-WHITE AND ROSE-RED\n",
        "64,9,0.082,SNOW-WHITE AND ROSE-RED\n"
       ]
      }
     ],
     "prompt_number": 24
    },
    {
     "cell_type": "code",
     "collapsed": false,
     "input": [
      "# utility function if you want it- write out the edges for all docs and topics as simple csv\n",
      "def for_excel(docs_alltopics, titles, filename):\n",
      "    with open(filename, 'w') as handle:\n",
      "        handle.write(\"Doc,Topic,Score,Title\\n\")\n",
      "        for x in range(0, len(docs_alltopics)):\n",
      "        #print x, docs_alltopics[x].keys()\n",
      "            for topic in docs_alltopics[x].keys():\n",
      "                handle.write(','.join([\"Doc\" +str(x), \"Top\"+topic, docs_alltopics[x][topic],titles[x]]) + '\\n')"
     ],
     "language": "python",
     "metadata": {},
     "outputs": [],
     "prompt_number": 25
    },
    {
     "cell_type": "code",
     "collapsed": false,
     "input": [
      "for_excel(docs_alltopics, titles, 'for_excel2.csv')"
     ],
     "language": "python",
     "metadata": {},
     "outputs": [],
     "prompt_number": 26
    },
    {
     "cell_type": "heading",
     "level": 3,
     "metadata": {},
     "source": [
      "Now open that file in Excel and do some nice analysis / viewing of the topics per doc!\n",
      "Then:"
     ]
    },
    {
     "cell_type": "code",
     "collapsed": false,
     "input": [
      "# takes in topic_words, shows which topic number each word is in \n",
      "\n",
      "def count_words(filename):\n",
      "    words = collections.defaultdict(list)\n",
      "    with open(filename, 'rb') as csvfile:\n",
      "        spamreader = csv.reader(csvfile, delimiter=',', quotechar='\"')\n",
      "        for row in spamreader:\n",
      "            if spamreader.line_num > 1:\n",
      "                [words[x.strip()].append(int(spamreader.line_num)) for x in row[1].split() if len(x.strip())>0]\n",
      "    return words"
     ],
     "language": "python",
     "metadata": {},
     "outputs": [],
     "prompt_number": 38
    },
    {
     "cell_type": "code",
     "collapsed": false,
     "input": [
      "count_words(topic_words)"
     ],
     "language": "python",
     "metadata": {},
     "outputs": [
      {
       "metadata": {},
       "output_type": "pyout",
       "prompt_number": 42,
       "text": [
        "defaultdict(<type 'list'>, {'cried': [6, 7], 'queen': [11], 'years': [5], 'find': [7], 'mother': [4], 'father': [2], 'young': [9], 'answered': [3, 7], 'wood': [5], 'gave': [4], 'evening': [4], 'tailor': [5], 'cook': [11], 'day': [4, 8], 'gretel': [4], 'peasant': [10], 'night': [8], 'found': [8], 'round': [2], 'husband': [10], 'set': [2], 'house': [6], 'back': [8], 'dead': [5], 'asleep': [5], 'home': [10, 11], 'girl': [11], 'stood': [2], 'fox': [5], 'children': [6], 'bird': [2], 'red': [6], 'told': [9], 'dwarf': [2], 'water': [8], 'met': [5], 'witch': [7], 'put': [9], 'princess': [9], 'great': [8], 'daughter': [11], 'cow': [10], 'thou': [9], 'soldier': [7], 'wolf': [6], 'castle': [2], 'asked': [8, 11], 'golden': [11], 'son': [2], 'long': [3, 10], 'carry': [5], 'prince': [9], 'horse': [9], 'fast': [3], 'live': [10], 'white': [6], 'head': [4], 'lived': [9], 'door': [10], 'fire': [3], 'child': [6], 'eat': [3], 'king': [11], 'woman': [6], 'made': [10], 'wife': [10], 'tree': [2], 'cat': [6], 'youth': [3], 'beautiful': [11], 'give': [5], 'ran': [4, 7], 'good': [4], 'mouse': [7], 'sat': [3, 9], 'thought': [3], 'began': [7], 'till': [9], 'forest': [6], 'drink': [3], 'hand': [4], 'fell': [7], 'hans': [4], 'man': [3, 8], 'chanticleer': [5], 'dog': [7], 'looked': [2, 10], 'time': [8, 11], 'make': [8]})"
       ]
      }
     ],
     "prompt_number": 42
    },
    {
     "cell_type": "code",
     "collapsed": false,
     "input": [],
     "language": "python",
     "metadata": {},
     "outputs": []
    },
    {
     "cell_type": "heading",
     "level": 3,
     "metadata": {},
     "source": [
      "Heading into GEPHI, we need a more interesting format that includes nodes with edges with strenghts..."
     ]
    },
    {
     "cell_type": "code",
     "collapsed": false,
     "input": [
      "# utility function for capturing output below and writing it to a file\n",
      "def writeout(fname):\n",
      "    with open(fname, 'w') as f:\n",
      "        f.write(output.stdout)"
     ],
     "language": "python",
     "metadata": {},
     "outputs": [],
     "prompt_number": 32
    },
    {
     "cell_type": "code",
     "collapsed": false,
     "input": [
      "def remove_commas(instring):\n",
      "    newstr = instring.replace(\",\", \"\")\n",
      "    return newstr\n",
      "\n",
      "# word list is the words per topic\n",
      "\n",
      "def writegdfnodes(word_list, docs_alltopics, titles, documents):\n",
      "    import operator\n",
      "    print \"nodedef>name VARCHAR, label VARCHAR, title VARCHAR, text VARCHAR\"\n",
      "    item = 0\n",
      "    for docnum, doc in enumerate(docs_alltopics):\n",
      "        item += 1\n",
      "        result = sorted(docs_alltopics[docnum].iteritems(), key=operator.itemgetter(1))\n",
      "        #print result[0]\n",
      "        print docnum + 1, \",\", remove_commas(titles[docnum]), \",\", remove_commas(titles[docnum]),  \",\", \"\\\"\" + remove_commas(documents[docnum][0][0:360].encode('ascii')) + \"...\\\"\"\n",
      "    item += 1\n",
      "    for topnum, topic in enumerate(word_list):\n",
      "        print topnum + item, \",\", \" \".join(word_list[topnum][0:2]), \",\", \" \".join(word_list[topnum][0:2]), \",\", \"\\\"Top words:\" + \" \".join(word_list[topnum]) + \"\\\"\"\n",
      "\n",
      "# input docs_alltopics, \n",
      "def writegdfedges(docs):\n",
      "    offset = len(docs)\n",
      "    print \"edgedef>node1 VARCHAR,node2 VARCHAR, weight DOUBLE\"\n",
      "    for docnum, doc in enumerate(docs):\n",
      "        for key,val in doc.iteritems():\n",
      "            if float(val) > .15:\n",
      "                print docnum + 1 , \",\", int(key) + offset, \",\", float(val) * 10.0"
     ],
     "language": "python",
     "metadata": {},
     "outputs": [],
     "prompt_number": 28
    },
    {
     "cell_type": "code",
     "collapsed": false,
     "input": [
      "%%capture output\n",
      "writegdfnodes(word_list, docs_alltopics, titles, chaps)"
     ],
     "language": "python",
     "metadata": {},
     "outputs": [],
     "prompt_number": 33
    },
    {
     "cell_type": "heading",
     "level": 3,
     "metadata": {},
     "source": [
      "uncomment out the %%capture lines, rerun those cells and do the writeout lines after each run."
     ]
    },
    {
     "cell_type": "code",
     "collapsed": false,
     "input": [
      "writeout('nodes.txt')"
     ],
     "language": "python",
     "metadata": {},
     "outputs": [],
     "prompt_number": 35
    },
    {
     "cell_type": "code",
     "collapsed": false,
     "input": [
      "#%%capture output\n",
      "writegdfedges(docs_alltopics)"
     ],
     "language": "python",
     "metadata": {},
     "outputs": [
      {
       "output_type": "stream",
       "stream": "stdout",
       "text": [
        "edgedef>node1 VARCHAR,node2 VARCHAR, weight DOUBLE\n",
        "1 , 66 , 2.21\n",
        "1 , 69 , 1.75\n",
        "1 , 73 , 1.98\n",
        "2 , 68 , 2.84\n",
        "3 , 66 , 1.87\n",
        "3 , 73 , 3.32\n",
        "4 , 72 , 2.74\n",
        "4 , 71 , 2.4\n",
        "5 , 70 , 1.8\n",
        "5 , 74 , 2.33\n",
        "6 , 71 , 2.98\n",
        "7 , 75 , 2.52\n",
        "8 , 73 , 1.61\n",
        "8 , 71 , 4.91\n",
        "9 , 75 , 1.63\n",
        "9 , 66 , 2.63\n",
        "10 , 74 , 5.23\n",
        "10 , 72 , 1.62\n",
        "11 , 70 , 4.0\n",
        "12 , 74 , 1.73\n",
        "12 , 73 , 3.95\n",
        "13 , 70 , 2.31\n",
        "13 , 71 , 2.91\n",
        "14 , 73 , 5.59\n",
        "15 , 69 , 2.13\n",
        "15 , 72 , 1.56\n",
        "16 , 70 , 1.67\n",
        "16 , 69 , 4.58\n",
        "17 , 69 , 4.98\n",
        "18 , 73 , 2.41\n",
        "19 , 70 , 3.68\n",
        "19 , 71 , 2.36\n",
        "20 , 69 , 3.68\n",
        "21 , 68 , 1.83\n",
        "21 , 70 , 3.54\n",
        "22 , 66 , 1.84\n",
        "22 , 72 , 1.56\n",
        "22 , 71 , 2.38\n",
        "23 , 75 , 1.79\n",
        "23 , 68 , 2.86\n",
        "24 , 70 , 4.94\n",
        "25 , 75 , 2.32\n",
        "25 , 70 , 1.56\n",
        "25 , 71 , 2.51\n",
        "26 , 72 , 2.53\n",
        "26 , 74 , 1.98\n",
        "27 , 75 , 2.2\n",
        "27 , 66 , 1.73\n",
        "28 , 68 , 2.39\n",
        "28 , 67 , 3.92\n",
        "29 , 68 , 1.86\n",
        "29 , 67 , 1.74\n",
        "29 , 72 , 1.74\n",
        "30 , 74 , 5.33\n",
        "30 , 72 , 1.86\n",
        "31 , 74 , 1.56\n",
        "31 , 67 , 1.67\n",
        "31 , 71 , 3.37\n",
        "32 , 75 , 2.59\n",
        "32 , 70 , 1.75\n",
        "32 , 71 , 1.6\n",
        "33 , 74 , 3.07\n",
        "34 , 75 , 3.2\n",
        "35 , 68 , 2.29\n",
        "35 , 70 , 3.33\n",
        "36 , 72 , 1.68\n",
        "36 , 71 , 3.64\n",
        "37 , 75 , 4.5\n",
        "37 , 66 , 1.66\n",
        "38 , 72 , 2.29\n",
        "39 , 74 , 2.18\n",
        "39 , 70 , 3.8\n",
        "40 , 66 , 3.16\n",
        "40 , 67 , 1.6\n",
        "40 , 72 , 1.52\n",
        "41 , 68 , 2.4\n",
        "41 , 72 , 2.7\n",
        "42 , 66 , 4.0\n",
        "42 , 68 , 2.95\n",
        "43 , 73 , 2.82\n",
        "44 , 68 , 9.16\n",
        "45 , 67 , 3.52\n",
        "46 , 67 , 1.7\n",
        "46 , 70 , 1.7\n",
        "46 , 69 , 2.92\n",
        "47 , 66 , 2.12\n",
        "47 , 69 , 2.37\n",
        "47 , 72 , 1.93\n",
        "48 , 75 , 1.65\n",
        "48 , 72 , 2.08\n",
        "48 , 73 , 2.01\n",
        "49 , 73 , 2.2\n",
        "50 , 72 , 2.19\n",
        "50 , 71 , 3.06\n",
        "51 , 66 , 1.88\n",
        "51 , 72 , 1.91\n",
        "52 , 67 , 4.17\n",
        "53 , 66 , 3.08\n",
        "53 , 73 , 1.81\n",
        "54 , 66 , 1.73\n",
        "54 , 75 , 4.6\n",
        "55 , 66 , 2.78\n",
        "56 , 69 , 3.63\n",
        "56 , 72 , 1.92\n",
        "57 , 66 , 1.83\n",
        "57 , 69 , 1.79\n",
        "58 , 70 , 1.68\n",
        "58 , 69 , 4.03\n",
        "59 , 70 , 2.53\n",
        "59 , 69 , 2.6\n",
        "60 , 66 , 2.26\n",
        "60 , 73 , 1.54\n",
        "61 , 67 , 4.3\n",
        "62 , 75 , 2.74\n",
        "62 , 67 , 1.51\n",
        "63 , 75 , 3.37\n",
        "63 , 72 , 1.73\n",
        "64 , 75 , 5.38\n",
        "65 , 70 , 3.86\n"
       ]
      }
     ],
     "prompt_number": 51
    },
    {
     "cell_type": "code",
     "collapsed": false,
     "input": [
      "writeout('edges.txt')"
     ],
     "language": "python",
     "metadata": {},
     "outputs": [],
     "prompt_number": 269
    },
    {
     "cell_type": "code",
     "collapsed": false,
     "input": [],
     "language": "python",
     "metadata": {},
     "outputs": []
    },
    {
     "cell_type": "heading",
     "level": 3,
     "metadata": {},
     "source": [
      "For import to gephi, go to your console and concatenate the 2 files into one:\n",
      "    cat nodes.txt edges.txt > forgdf.gdf"
     ]
    },
    {
     "cell_type": "heading",
     "level": 3,
     "metadata": {},
     "source": [
      "Then open that file in Gephi."
     ]
    },
    {
     "cell_type": "markdown",
     "metadata": {},
     "source": [
      "* After you're done in Gephi, go to File > Export > Sigmajs.  \n",
      "* Then find your \"network\" folder and look at it in a webserver. \n",
      "* Customize more info from with http://sigmajs.org/\n",
      "    "
     ]
    },
    {
     "cell_type": "heading",
     "level": 3,
     "metadata": {},
     "source": [
      "Overview Project wants full text, plus optionally tags associated with each text.  Let's produce another CSV file with the top topic words as tags!"
     ]
    },
    {
     "cell_type": "code",
     "collapsed": false,
     "input": [
      "import operator\n",
      "for docnum, doc in enumerate(docs_alltopics):\n",
      "    doc = {a:float(x) for a, x in doc.iteritems()}\n",
      "    result = sorted(doc.iteritems(), key=operator.itemgetter(1))\n",
      "    print \"result is\", result\n",
      "    top_topic = result[-1][0]\n",
      "    print word_list[int(top_topic)-1]\n",
      "    print docnum, titles[docnum], top_topic, ' '.join(word_list[int(top_topic)-1])\n",
      "    "
     ],
     "language": "python",
     "metadata": {},
     "outputs": [
      {
       "output_type": "stream",
       "stream": "stdout",
       "text": [
        "result is [('3', 0.059), ('2', 0.061), ('10', 0.111), ('7', 0.119), ('4', 0.175), ('8', 0.198), ('1', 0.221)]\n",
        "['father', 'bird', 'son', 'set', 'tree', 'looked', 'round', 'dwarf', 'castle', 'stood']\n",
        "0 THE GOLDEN BIRD 1 father bird son set tree looked round dwarf castle stood\n",
        "result is [('6', 0.08), ('2', 0.092), ('4', 0.092), ('7', 0.116), ('9', 0.119), ('8', 0.128), ('3', 0.284)]\n",
        "['good', 'mother', 'hans', 'gretel', 'day', 'ran', 'gave', 'hand', 'head', 'evening']\n",
        "1 HANS IN LUCK 3 good mother hans gretel day ran gave hand head evening\n",
        "result is [('2', 0.058), ('3', 0.061), ('5', 0.061), ('7', 0.068), ('10', 0.119), ('1', 0.187), ('8', 0.332)]\n",
        "['till', 'princess', 'horse', 'told', 'young', 'prince', 'put', 'sat', 'thou', 'lived']\n",
        "2 JORINDA AND JORINDEL 8 till princess horse told young prince put sat thou lived\n",
        "result is [('4', 0.054), ('1', 0.057), ('3', 0.059), ('8', 0.07), ('5', 0.075), ('2', 0.09), ('6', 0.24), ('7', 0.274)]\n",
        "['great', 'man', 'found', 'water', 'day', 'time', 'back', 'make', 'night', 'asked']\n",
        "3 THE TRAVELLING MUSICIANS 7 great man found water day time back make night asked\n",
        "result is [('7', 0.053), ('3', 0.057), ('8', 0.074), ('6', 0.092), ('4', 0.117), ('2', 0.134), ('5', 0.18), ('9', 0.233)]\n",
        "['wife', 'door', 'home', 'made', 'peasant', 'long', 'cow', 'looked', 'husband', 'live']\n",
        "4 OLD SULTAN 9 wife door home made peasant long cow looked husband live\n",
        "result is [('9', 0.07), ('8', 0.07), ('3', 0.076), ('2', 0.111), ('4', 0.117), ('5', 0.129), ('6', 0.298)]\n",
        "['began', 'answered', 'soldier', 'fell', 'dog', 'ran', 'mouse', 'cried', 'find', 'witch']\n",
        "5 THE STRAW, THE COAL, AND THE BEAN 6 began answered soldier fell dog ran mouse cried find witch\n",
        "result is [('5', 0.071), ('3', 0.073), ('7', 0.09), ('1', 0.097), ('2', 0.108), ('8', 0.133), ('4', 0.14), ('10', 0.252)]\n",
        "['king', 'daughter', 'golden', 'queen', 'home', 'beautiful', 'girl', 'cook', 'asked', 'time']\n",
        "6 BRIAR ROSE 10 king daughter golden queen home beautiful girl cook asked time\n",
        "result is [('2', 0.069), ('9', 0.083), ('8', 0.161), ('6', 0.491)]\n",
        "['began', 'answered', 'soldier', 'fell', 'dog', 'ran', 'mouse', 'cried', 'find', 'witch']\n",
        "7 THE DOG AND THE SPARROW 6 began answered soldier fell dog ran mouse cried find witch\n",
        "result is [('5', 0.052), ('2', 0.056), ('9', 0.076), ('8', 0.08), ('6', 0.114), ('7', 0.125), ('10', 0.163), ('1', 0.263)]\n",
        "['father', 'bird', 'son', 'set', 'tree', 'looked', 'round', 'dwarf', 'castle', 'stood']\n",
        "8 THE TWELVE DANCING PRINCESSES 1 father bird son set tree looked round dwarf castle stood\n",
        "result is [('8', 0.062), ('10', 0.089), ('7', 0.162), ('9', 0.523)]\n",
        "['wife', 'door', 'home', 'made', 'peasant', 'long', 'cow', 'looked', 'husband', 'live']\n",
        "9 THE FISHERMAN AND HIS WIFE 9 wife door home made peasant long cow looked husband live\n",
        "result is [('7', 0.063), ('1', 0.066), ('2', 0.066), ('4', 0.087), ('10', 0.101), ('8', 0.11), ('5', 0.4)]\n",
        "['red', 'cat', 'forest', 'white', 'child', 'cried', 'children', 'woman', 'wolf', 'house']\n",
        "10 THE WILLOW-WREN AND THE BEAR 5 red cat forest white child cried children woman wolf house\n",
        "result is [('3', 0.054), ('5', 0.059), ('10', 0.07), ('1', 0.078), ('7', 0.093), ('9', 0.173), ('8', 0.395)]\n",
        "['till', 'princess', 'horse', 'told', 'young', 'prince', 'put', 'sat', 'thou', 'lived']\n",
        "11 THE FROG-PRINCE 8 till princess horse told young prince put sat thou lived\n",
        "result is [('1', 0.06), ('3', 0.063), ('2', 0.101), ('7', 0.142), ('5', 0.231), ('6', 0.291)]\n",
        "['began', 'answered', 'soldier', 'fell', 'dog', 'ran', 'mouse', 'cried', 'find', 'witch']\n",
        "12 CAT AND MOUSE IN PARTNERSHIP 6 began answered soldier fell dog ran mouse cried find witch\n",
        "result is [('3', 0.062), ('7', 0.074), ('10', 0.148), ('8', 0.559)]\n",
        "['till', 'princess', 'horse', 'told', 'young', 'prince', 'put', 'sat', 'thou', 'lived']\n",
        "13 THE GOOSE-GIRL 8 till princess horse told young prince put sat thou lived\n",
        "result is [('2', 0.057), ('9', 0.078), ('8', 0.099), ('5', 0.103), ('6', 0.103), ('3', 0.131), ('7', 0.156), ('4', 0.213)]\n",
        "['fox', 'tailor', 'dead', 'give', 'asleep', 'years', 'wood', 'carry', 'met', 'chanticleer']\n",
        "14 Chanticleer 1. HOW THEY WENT TO THE MOUNTAINS TO EAT NUTS 4 fox tailor dead give asleep years wood carry met chanticleer\n",
        "result is [('9', 0.056), ('7', 0.069), ('3', 0.09), ('5', 0.167), ('4', 0.458)]\n",
        "['fox', 'tailor', 'dead', 'give', 'asleep', 'years', 'wood', 'carry', 'met', 'chanticleer']\n",
        "15 Chanticleer 2. HOW CHANTICLEER AND PARTLET WENT TO VISIT MR KORBES 4 fox tailor dead give asleep years wood carry met chanticleer\n",
        "result is [('3', 0.063), ('5', 0.081), ('7', 0.086), ('10', 0.136), ('4', 0.498)]\n",
        "['fox', 'tailor', 'dead', 'give', 'asleep', 'years', 'wood', 'carry', 'met', 'chanticleer']\n",
        "16 Chanticleer 3. HOW PARTLET DIED AND WAS BURIED, AND HOW CHANTICLEER DIED OF GRIEF 4 fox tailor dead give asleep years wood carry met chanticleer\n",
        "result is [('2', 0.069), ('6', 0.071), ('7', 0.082), ('3', 0.09), ('5', 0.092), ('9', 0.097), ('1', 0.105), ('10', 0.123), ('8', 0.241)]\n",
        "['till', 'princess', 'horse', 'told', 'young', 'prince', 'put', 'sat', 'thou', 'lived']\n",
        "17 RAPUNZEL 8 till princess horse told young prince put sat thou lived\n",
        "result is [('1', 0.056), ('10', 0.08), ('7', 0.124), ('6', 0.236), ('5', 0.368)]\n",
        "['red', 'cat', 'forest', 'white', 'child', 'cried', 'children', 'woman', 'wolf', 'house']\n",
        "18 FUNDEVOGEL 5 red cat forest white child cried children woman wolf house\n",
        "result is [('10', 0.068), ('2', 0.072), ('3', 0.076), ('1', 0.086), ('5', 0.088), ('7', 0.138), ('4', 0.368)]\n",
        "['fox', 'tailor', 'dead', 'give', 'asleep', 'years', 'wood', 'carry', 'met', 'chanticleer']\n",
        "19 THE VALIANT LITTLE TAILOR 4 fox tailor dead give asleep years wood carry met chanticleer\n",
        "result is [('1', 0.066), ('7', 0.083), ('6', 0.096), ('2', 0.099), ('3', 0.183), ('5', 0.354)]\n",
        "['red', 'cat', 'forest', 'white', 'child', 'cried', 'children', 'woman', 'wolf', 'house']\n",
        "20 HANSEL AND GRETEL 5 red cat forest white child cried children woman wolf house\n",
        "result is [('8', 0.051), ('10', 0.055), ('4', 0.059), ('9', 0.059), ('2', 0.074), ('5', 0.082), ('7', 0.156), ('1', 0.184), ('6', 0.238)]\n",
        "['began', 'answered', 'soldier', 'fell', 'dog', 'ran', 'mouse', 'cried', 'find', 'witch']\n",
        "21 THE MOUSE, THE BIRD, AND THE SAUSAGE 6 began answered soldier fell dog ran mouse cried find witch\n",
        "result is [('8', 0.071), ('1', 0.102), ('7', 0.121), ('5', 0.143), ('10', 0.179), ('3', 0.286)]\n",
        "['good', 'mother', 'hans', 'gretel', 'day', 'ran', 'gave', 'hand', 'head', 'evening']\n",
        "22 MOTHER HOLLE 3 good mother hans gretel day ran gave hand head evening\n",
        "result is [('7', 0.05), ('4', 0.066), ('9', 0.068), ('2', 0.096), ('3', 0.116), ('5', 0.494)]\n",
        "['red', 'cat', 'forest', 'white', 'child', 'cried', 'children', 'woman', 'wolf', 'house']\n",
        "23 LITTLE RED-CAP [LITTLE RED RIDING HOOD] 5 red cat forest white child cried children woman wolf house\n",
        "result is [('8', 0.056), ('7', 0.058), ('2', 0.134), ('5', 0.156), ('10', 0.232), ('6', 0.251)]\n",
        "['began', 'answered', 'soldier', 'fell', 'dog', 'ran', 'mouse', 'cried', 'find', 'witch']\n",
        "24 THE ROBBER BRIDEGROOM 6 began answered soldier fell dog ran mouse cried find witch\n",
        "result is [('2', 0.053), ('6', 0.077), ('1', 0.078), ('3', 0.085), ('5', 0.095), ('8', 0.095), ('9', 0.198), ('7', 0.253)]\n",
        "['great', 'man', 'found', 'water', 'day', 'time', 'back', 'make', 'night', 'asked']\n",
        "25 TOM THUMB 7 great man found water day time back make night asked\n",
        "result is [('3', 0.058), ('5', 0.068), ('9', 0.081), ('8', 0.089), ('6', 0.1), ('7', 0.136), ('1', 0.173), ('10', 0.22)]\n",
        "['king', 'daughter', 'golden', 'queen', 'home', 'beautiful', 'girl', 'cook', 'asked', 'time']\n",
        "26 RUMPELSTILTSKIN 10 king daughter golden queen home beautiful girl cook asked time\n",
        "result is [('5', 0.051), ('9', 0.055), ('1', 0.058), ('6', 0.061), ('3', 0.239), ('2', 0.392)]\n",
        "['man', 'thought', 'eat', 'fire', 'sat', 'answered', 'long', 'fast', 'drink', 'youth']\n",
        "27 CLEVER GRETEL 2 man thought eat fire sat answered long fast drink youth\n",
        "result is [('6', 0.058), ('9', 0.093), ('1', 0.116), ('5', 0.128), ('2', 0.174), ('7', 0.174), ('3', 0.186)]\n",
        "['good', 'mother', 'hans', 'gretel', 'day', 'ran', 'gave', 'hand', 'head', 'evening']\n",
        "28 THE OLD MAN AND HIS GRANDSON 3 good mother hans gretel day ran gave hand head evening\n",
        "result is [('6', 0.055), ('2', 0.108), ('7', 0.186), ('9', 0.533)]\n",
        "['wife', 'door', 'home', 'made', 'peasant', 'long', 'cow', 'looked', 'husband', 'live']\n",
        "29 THE LITTLE PEASANT 9 wife door home made peasant long cow looked husband live\n",
        "result is [('3', 0.064), ('7', 0.108), ('9', 0.156), ('2', 0.167), ('6', 0.337)]\n",
        "['began', 'answered', 'soldier', 'fell', 'dog', 'ran', 'mouse', 'cried', 'find', 'witch']\n",
        "30 FREDERICK AND CATHERINE 6 began answered soldier fell dog ran mouse cried find witch\n",
        "result is [('8', 0.051), ('7', 0.061), ('9', 0.063), ('3', 0.068), ('1', 0.074), ('6', 0.16), ('5', 0.175), ('10', 0.259)]\n",
        "['king', 'daughter', 'golden', 'queen', 'home', 'beautiful', 'girl', 'cook', 'asked', 'time']\n",
        "31 SWEETHEART ROLAND 10 king daughter golden queen home beautiful girl cook asked time\n",
        "result is [('1', 0.051), ('2', 0.051), ('7', 0.064), ('5', 0.067), ('8', 0.105), ('4', 0.116), ('10', 0.15), ('9', 0.307)]\n",
        "['wife', 'door', 'home', 'made', 'peasant', 'long', 'cow', 'looked', 'husband', 'live']\n",
        "32 SNOWDROP 9 wife door home made peasant long cow looked husband live\n",
        "result is [('5', 0.081), ('4', 0.09), ('7', 0.09), ('3', 0.092), ('6', 0.107), ('1', 0.114), ('10', 0.32)]\n",
        "['king', 'daughter', 'golden', 'queen', 'home', 'beautiful', 'girl', 'cook', 'asked', 'time']\n",
        "33 THE PINK 10 king daughter golden queen home beautiful girl cook asked time\n",
        "result is [('9', 0.056), ('10', 0.07), ('6', 0.07), ('7', 0.077), ('2', 0.094), ('3', 0.229), ('5', 0.333)]\n",
        "['red', 'cat', 'forest', 'white', 'child', 'cried', 'children', 'woman', 'wolf', 'house']\n",
        "34 CLEVER ELSIE 5 red cat forest white child cried children woman wolf house\n",
        "result is [('2', 0.06), ('8', 0.08), ('1', 0.085), ('4', 0.141), ('7', 0.168), ('6', 0.364)]\n",
        "['began', 'answered', 'soldier', 'fell', 'dog', 'ran', 'mouse', 'cried', 'find', 'witch']\n",
        "35 THE MISER IN THE BUSH 6 began answered soldier fell dog ran mouse cried find witch\n",
        "result is [('5', 0.051), ('7', 0.067), ('3', 0.072), ('8', 0.105), ('1', 0.166), ('10', 0.45)]\n",
        "['king', 'daughter', 'golden', 'queen', 'home', 'beautiful', 'girl', 'cook', 'asked', 'time']\n",
        "36 ASHPUTTEL 10 king daughter golden queen home beautiful girl cook asked time\n",
        "result is [('5', 0.054), ('4', 0.079), ('6', 0.079), ('1', 0.088), ('8', 0.093), ('3', 0.095), ('2', 0.116), ('10', 0.142), ('7', 0.229)]\n",
        "['great', 'man', 'found', 'water', 'day', 'time', 'back', 'make', 'night', 'asked']\n",
        "37 THE WHITE SNAKE 7 great man found water day time back make night asked\n",
        "result is [('4', 0.073), ('7', 0.075), ('3', 0.116), ('9', 0.218), ('5', 0.38)]\n",
        "['red', 'cat', 'forest', 'white', 'child', 'cried', 'children', 'woman', 'wolf', 'house']\n",
        "38 THE WOLF AND THE SEVEN LITTLE KIDS 5 red cat forest white child cried children woman wolf house\n",
        "result is [('4', 0.061), ('8', 0.065), ('10', 0.106), ('7', 0.152), ('2', 0.16), ('1', 0.316)]\n",
        "['father', 'bird', 'son', 'set', 'tree', 'looked', 'round', 'dwarf', 'castle', 'stood']\n",
        "39 THE QUEEN BEE 1 father bird son set tree looked round dwarf castle stood\n",
        "result is [('8', 0.064), ('1', 0.073), ('4', 0.077), ('2', 0.082), ('9', 0.099), ('3', 0.24), ('7', 0.27)]\n",
        "['great', 'man', 'found', 'water', 'day', 'time', 'back', 'make', 'night', 'asked']\n",
        "40 THE ELVES AND THE SHOEMAKER 7 great man found water day time back make night asked\n",
        "result is [('9', 0.06), ('5', 0.088), ('3', 0.295), ('1', 0.4)]\n",
        "['father', 'bird', 'son', 'set', 'tree', 'looked', 'round', 'dwarf', 'castle', 'stood']\n",
        "41 THE JUNIPER-TREE 1 father bird son set tree looked round dwarf castle stood\n",
        "result is [('2', 0.062), ('10', 0.074), ('3', 0.074), ('5', 0.079), ('9', 0.087), ('1', 0.095), ('6', 0.097), ('7', 0.108), ('8', 0.282)]\n",
        "['till', 'princess', 'horse', 'told', 'young', 'prince', 'put', 'sat', 'thou', 'lived']\n",
        "42 THE TURNIP 8 till princess horse told young prince put sat thou lived\n",
        "result is [('3', 0.916)]\n",
        "['good', 'mother', 'hans', 'gretel', 'day', 'ran', 'gave', 'hand', 'head', 'evening']\n",
        "43 CLEVER HANS 3 good mother hans gretel day ran gave hand head evening\n",
        "result is [('10', 0.063), ('3', 0.063), ('9', 0.111), ('7', 0.115), ('1', 0.136), ('2', 0.352)]\n",
        "['man', 'thought', 'eat', 'fire', 'sat', 'answered', 'long', 'fast', 'drink', 'youth']\n",
        "44 THE THREE LANGUAGES 2 man thought eat fire sat answered long fast drink youth\n",
        "result is [('1', 0.057), ('7', 0.075), ('9', 0.075), ('8', 0.085), ('2', 0.17), ('5', 0.17), ('4', 0.292)]\n",
        "['fox', 'tailor', 'dead', 'give', 'asleep', 'years', 'wood', 'carry', 'met', 'chanticleer']\n",
        "45 THE FOX AND THE CAT 4 fox tailor dead give asleep years wood carry met chanticleer\n",
        "result is [('2', 0.071), ('8', 0.1), ('7', 0.193), ('1', 0.212), ('4', 0.237)]\n",
        "['fox', 'tailor', 'dead', 'give', 'asleep', 'years', 'wood', 'carry', 'met', 'chanticleer']\n",
        "46 THE FOUR CLEVER BROTHERS 4 fox tailor dead give asleep years wood carry met chanticleer\n",
        "result is [('4', 0.105), ('5', 0.108), ('1', 0.124), ('10', 0.165), ('8', 0.201), ('7', 0.208)]\n",
        "['great', 'man', 'found', 'water', 'day', 'time', 'back', 'make', 'night', 'asked']\n",
        "47 LILY AND THE LION 7 great man found water day time back make night asked\n",
        "result is [('3', 0.054), ('10', 0.06), ('9', 0.065), ('1', 0.089), ('6', 0.095), ('7', 0.113), ('2', 0.119), ('4', 0.137), ('8', 0.22)]\n",
        "['till', 'princess', 'horse', 'told', 'young', 'prince', 'put', 'sat', 'thou', 'lived']\n",
        "48 THE FOX AND THE HORSE 8 till princess horse told young prince put sat thou lived\n",
        "result is [('5', 0.055), ('3', 0.062), ('2', 0.08), ('10', 0.11), ('7', 0.219), ('6', 0.306)]\n",
        "['began', 'answered', 'soldier', 'fell', 'dog', 'ran', 'mouse', 'cried', 'find', 'witch']\n",
        "49 THE BLUE LIGHT 6 began answered soldier fell dog ran mouse cried find witch\n",
        "result is [('10', 0.073), ('8', 0.074), ('5', 0.084), ('6', 0.104), ('2', 0.121), ('4', 0.122), ('1', 0.188), ('7', 0.191)]\n",
        "['great', 'man', 'found', 'water', 'day', 'time', 'back', 'make', 'night', 'asked']\n",
        "50 THE RAVEN 7 great man found water day time back make night asked\n",
        "result is [('4', 0.06), ('1', 0.072), ('10', 0.078), ('5', 0.08), ('7', 0.096), ('3', 0.105), ('2', 0.417)]\n",
        "['man', 'thought', 'eat', 'fire', 'sat', 'answered', 'long', 'fast', 'drink', 'youth']\n",
        "51 THE GOLDEN GOOSE 2 man thought eat fire sat answered long fast drink youth\n",
        "result is [('2', 0.077), ('4', 0.08), ('10', 0.138), ('7', 0.138), ('8', 0.181), ('1', 0.308)]\n",
        "['father', 'bird', 'son', 'set', 'tree', 'looked', 'round', 'dwarf', 'castle', 'stood']\n",
        "52 THE WATER OF LIFE 1 father bird son set tree looked round dwarf castle stood\n",
        "result is [('7', 0.059), ('5', 0.067), ('4', 0.114), ('1', 0.173), ('10', 0.46)]\n",
        "['king', 'daughter', 'golden', 'queen', 'home', 'beautiful', 'girl', 'cook', 'asked', 'time']\n",
        "53 THE TWELVE HUNTSMEN 10 king daughter golden queen home beautiful girl cook asked time\n",
        "result is [('9', 0.054), ('3', 0.07), ('4', 0.085), ('10', 0.124), ('7', 0.15), ('8', 0.15), ('1', 0.278)]\n",
        "['father', 'bird', 'son', 'set', 'tree', 'looked', 'round', 'dwarf', 'castle', 'stood']\n",
        "54 THE KING OF THE GOLDEN MOUNTAIN 1 father bird son set tree looked round dwarf castle stood\n",
        "result is [('6', 0.065), ('2', 0.073), ('9', 0.139), ('7', 0.192), ('4', 0.363)]\n",
        "['fox', 'tailor', 'dead', 'give', 'asleep', 'years', 'wood', 'carry', 'met', 'chanticleer']\n",
        "55 DOCTOR KNOWALL 4 fox tailor dead give asleep years wood carry met chanticleer\n",
        "result is [('9', 0.073), ('10', 0.1), ('8', 0.103), ('2', 0.116), ('7', 0.116), ('4', 0.179), ('1', 0.183)]\n",
        "['father', 'bird', 'son', 'set', 'tree', 'looked', 'round', 'dwarf', 'castle', 'stood']\n",
        "56 THE SEVEN RAVENS 1 father bird son set tree looked round dwarf castle stood\n",
        "result is [('8', 0.074), ('9', 0.094), ('2', 0.128), ('5', 0.168), ('4', 0.403)]\n",
        "['fox', 'tailor', 'dead', 'give', 'asleep', 'years', 'wood', 'carry', 'met', 'chanticleer']\n",
        "57 THE WEDDING OF MRS FOX:FIRST STORY 4 fox tailor dead give asleep years wood carry met chanticleer\n",
        "result is [('10', 0.06), ('6', 0.06), ('9', 0.06), ('7', 0.073), ('2', 0.14), ('5', 0.253), ('4', 0.26)]\n",
        "['fox', 'tailor', 'dead', 'give', 'asleep', 'years', 'wood', 'carry', 'met', 'chanticleer']\n",
        "58 THE WEDDING OF MRS FOX:SECOND STORY 4 fox tailor dead give asleep years wood carry met chanticleer\n",
        "result is [('6', 0.052), ('2', 0.055), ('5', 0.055), ('3', 0.058), ('4', 0.106), ('9', 0.119), ('7', 0.135), ('8', 0.154), ('1', 0.226)]\n",
        "['father', 'bird', 'son', 'set', 'tree', 'looked', 'round', 'dwarf', 'castle', 'stood']\n",
        "59 THE SALAD 1 father bird son set tree looked round dwarf castle stood\n",
        "result is [('4', 0.05), ('9', 0.06), ('10', 0.068), ('3', 0.071), ('1', 0.085), ('7', 0.121), ('2', 0.43)]\n",
        "['man', 'thought', 'eat', 'fire', 'sat', 'answered', 'long', 'fast', 'drink', 'youth']\n",
        "60 THE STORY OF THE YOUTH WHO WENT FORTH TO LEARN WHAT FEAR WAS 2 man thought eat fire sat answered long fast drink youth\n",
        "result is [('6', 0.074), ('9', 0.083), ('8', 0.087), ('1', 0.102), ('7', 0.109), ('2', 0.151), ('10', 0.274)]\n",
        "['king', 'daughter', 'golden', 'queen', 'home', 'beautiful', 'girl', 'cook', 'asked', 'time']\n",
        "61 KING GRISLY-BEARD 10 king daughter golden queen home beautiful girl cook asked time\n",
        "result is [('5', 0.085), ('2', 0.095), ('3', 0.113), ('7', 0.173), ('10', 0.337)]\n",
        "['king', 'daughter', 'golden', 'queen', 'home', 'beautiful', 'girl', 'cook', 'asked', 'time']\n",
        "62 IRON HANS 10 king daughter golden queen home beautiful girl cook asked time\n",
        "result is [('4', 0.053), ('8', 0.054), ('7', 0.065), ('5', 0.069), ('1', 0.09), ('10', 0.538)]\n",
        "['king', 'daughter', 'golden', 'queen', 'home', 'beautiful', 'girl', 'cook', 'asked', 'time']\n",
        "63 CAT-SKIN 10 king daughter golden queen home beautiful girl cook asked time\n",
        "result is [('3', 0.051), ('1', 0.082), ('9', 0.082), ('7', 0.105), ('2', 0.147), ('5', 0.386)]\n",
        "['red', 'cat', 'forest', 'white', 'child', 'cried', 'children', 'woman', 'wolf', 'house']\n",
        "64 SNOW-WHITE AND ROSE-RED 5 red cat forest white child cried children woman wolf house\n"
       ]
      }
     ],
     "prompt_number": 52
    },
    {
     "cell_type": "code",
     "collapsed": false,
     "input": [
      "def overview_csv(chaps, docs_alltopics,titles,word_list,filename):\n",
      "    import operator\n",
      "    with open(filename, 'w') as handle:\n",
      "        handle.write('id\\ttitle\\ttags\\ttext\\n')\n",
      "        for docnum, doc in enumerate(docs_alltopics):\n",
      "            doc = {a:float(x) for a, x in doc.iteritems()}\n",
      "            result = sorted(doc.iteritems(), key=operator.itemgetter(1))\n",
      "            top_topic = result[-1][0]\n",
      "            topic_string = ' '.join(word_list[int(top_topic)-1][0:2])  # only using 2 words from the topic word list\n",
      "            handle.write('\\t'.join([str(docnum), titles[docnum], topic_string, remove_commas(chaps[docnum][0])]) + '\\n')"
     ],
     "language": "python",
     "metadata": {},
     "outputs": [],
     "prompt_number": 36
    },
    {
     "cell_type": "code",
     "collapsed": false,
     "input": [
      "overview_csv(chaps, docs_alltopics, titles, word_list, 'for_overview.tsv')"
     ],
     "language": "python",
     "metadata": {},
     "outputs": [],
     "prompt_number": 37
    },
    {
     "cell_type": "heading",
     "level": 3,
     "metadata": {},
     "source": [
      "Now open the file in Excel, save it out as CSV.  Then upload it to your Overview account as a csv."
     ]
    },
    {
     "cell_type": "code",
     "collapsed": false,
     "input": [],
     "language": "python",
     "metadata": {},
     "outputs": []
    }
   ],
   "metadata": {}
  }
 ]
}