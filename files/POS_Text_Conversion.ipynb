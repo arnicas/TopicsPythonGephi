{
 "metadata": {
  "name": "",
  "signature": "sha256:4ff77e828409b80965438aee0c238169cd11da133dcbab8e858a7e2adb982c12"
 },
 "nbformat": 3,
 "nbformat_minor": 0,
 "worksheets": [
  {
   "cells": [
    {
     "cell_type": "heading",
     "level": 1,
     "metadata": {},
     "source": [
      "Examples of Tokenizing, Cleaning, Rewriting with Parts of Speech"
     ]
    },
    {
     "cell_type": "heading",
     "level": 4,
     "metadata": {},
     "source": [
      "This notebook assumes you installed nltk and pattern already. (@arnicas, Aug 2014)"
     ]
    },
    {
     "cell_type": "code",
     "collapsed": false,
     "input": [
      "def print_all_tags(text):\n",
      "    from pattern.en import tag\n",
      "    for word, tag in tag(text):\n",
      "        print word, tag"
     ],
     "language": "python",
     "metadata": {},
     "outputs": [],
     "prompt_number": 1
    },
    {
     "cell_type": "code",
     "collapsed": false,
     "input": [
      "print_all_tags('I ate an apple. It was delicious. I left the core on the counter.')"
     ],
     "language": "python",
     "metadata": {},
     "outputs": [
      {
       "output_type": "stream",
       "stream": "stdout",
       "text": [
        "I PRP\n",
        "ate VBD\n",
        "an DT\n",
        "apple NN\n",
        ". .\n",
        "It PRP\n",
        "was VBD\n",
        "delicious JJ\n",
        ". .\n",
        "I PRP\n",
        "left VBD\n",
        "the DT\n",
        "core NN\n",
        "on IN\n",
        "the DT\n",
        "counter JJ\n",
        ". .\n"
       ]
      }
     ],
     "prompt_number": 3
    },
    {
     "cell_type": "code",
     "collapsed": false,
     "input": [
      "# Just print the nouns\n",
      "def nouns_by_line(line):\n",
      "    from pattern.en import tag as ptag\n",
      "    nouns = []\n",
      "    for word,tag in ptag(line):\n",
      "        if tag == 'NN':\n",
      "            # do something with garbage unicode chars here - but what\n",
      "            nouns.append(word)\n",
      "    return nouns"
     ],
     "language": "python",
     "metadata": {},
     "outputs": [],
     "prompt_number": 4
    },
    {
     "cell_type": "code",
     "collapsed": false,
     "input": [
      "nouns_by_line('I had an apple. I left it on the counter.')"
     ],
     "language": "python",
     "metadata": {},
     "outputs": [
      {
       "metadata": {},
       "output_type": "pyout",
       "prompt_number": 5,
       "text": [
        "[u'apple']"
       ]
      }
     ],
     "prompt_number": 5
    },
    {
     "cell_type": "code",
     "collapsed": false,
     "input": [
      "nouns_by_line('The cat in the hat')"
     ],
     "language": "python",
     "metadata": {},
     "outputs": [
      {
       "metadata": {},
       "output_type": "pyout",
       "prompt_number": 6,
       "text": [
        "[u'cat', u'hat']"
       ]
      }
     ],
     "prompt_number": 6
    },
    {
     "cell_type": "code",
     "collapsed": false,
     "input": [
      "# Make it more general - pass in the Part of Speech you want\n",
      "def tag_by_line(line, tag):\n",
      "    # matching the first two chars of the tag - so verbs are vb, etc.\n",
      "    from pattern.en import tag as ptag\n",
      "    words = []\n",
      "    for word,foundtag in ptag(line):\n",
      "        if foundtag[0:2]== tag:  # first 2 chars are the base tag\n",
      "            # do something with garbage unicode chars here - but what\n",
      "            words.append(word)\n",
      "    return words"
     ],
     "language": "python",
     "metadata": {},
     "outputs": [],
     "prompt_number": 7
    },
    {
     "cell_type": "code",
     "collapsed": false,
     "input": [
      "tag_by_line('I looked at his red apple enviously. It was enormous.', 'VB')"
     ],
     "language": "python",
     "metadata": {},
     "outputs": [
      {
       "metadata": {},
       "output_type": "pyout",
       "prompt_number": 8,
       "text": [
        "[u'looked', u'was']"
       ]
      }
     ],
     "prompt_number": 8
    },
    {
     "cell_type": "heading",
     "level": 3,
     "metadata": {},
     "source": [
      "Read in one of the files to practice on..."
     ]
    },
    {
     "cell_type": "code",
     "collapsed": false,
     "input": [
      "import os\n",
      "import ununicode\n",
      "with open('../data/mixed_chapters/austen_pride_ch1.txt', 'r') as myfile:\n",
      "    text = myfile.read()\n",
      "text"
     ],
     "language": "python",
     "metadata": {},
     "outputs": [
      {
       "metadata": {},
       "output_type": "pyout",
       "prompt_number": 11,
       "text": [
        "'\\r\\nIt is a truth universally acknowledged, that a single man in possession\\r\\nof a good fortune, must be in want of a wife.\\r\\nHowever little known the feelings or views of such a man may be on his\\r\\nfirst entering a neighbourhood, this truth is so well fixed in the minds\\r\\nof the surrounding families, that he is considered the rightful property\\r\\nof some one or other of their daughters.\\r\\n\"My dear Mr. Bennet,\" said his lady to him one day, \"have you heard that\\r\\nNetherfield Park is let at last?\"\\r\\n r. Bennet replied that he had not.\\r\\n\"But it is,\" returned she; \"for Mrs. Long has just been here, and she\\r\\ntold me all about it.\"\\r\\n Mr. Bennet made no answer.\\r\\n\"Do you not want to know who has taken it?\" cried his wife impatiently.\\r\\n\\r\\n\"_You_ want to tell me, and I have no objection to hearing it.\"\\r\\n\\r\\nThis was invitation enough.\\r\\n\\r\\n\"Why, my dear, you must know, Mrs. Long says that Netherfield is taken\\r\\nby a young man of large fortune from the north of England; that he came\\r\\ndown on Monday in a chaise and four to see the place, and was so much\\r\\ndelighted with it, that he agreed with Mr. Morris immediately; that he\\r\\nis to take possession before Michaelmas, and some of his servants are to\\r\\nbe in the house by the end of next week.\"\\r\\n\\r\\n\"What is his name?\"\\r\\n\\r\\n\"Bingley.\"\\r\\n\\r\\n\"Is he married or single?\"\\r\\n\\r\\n\"Oh! Single, my dear, to be sure! A single man of large fortune; four or\\r\\nfive thousand a year. What a fine thing for our girls!\"\\r\\n\\r\\n\"How so? How can it affect them?\"\\r\\n\\r\\n\"My dear Mr. Bennet,\" replied his wife, \"how can you be so tiresome! You\\r\\n ust know that I am thinking of his marrying one of them.\"\\r\\n\\r\\n\"Is that his design in settling here?\"\\r\\n\\r\\n\"Design! Nonsense, how can you talk so! But it is very likely that he\\r\\n_may_ fall in love with one of them, and therefore you must visit him as\\r\\nsoon as he comes.\"\\r\\n\\r\\n\"I see no occasion for that. You and the girls may go, or you may send\\r\\nthem by themselves, which perhaps will be still better, for as you are\\r\\nas handsome as any of them, Mr. Bingley may like you the best of the\\r\\nparty.\"\\r\\n\\r\\n\"My dear, you flatter me. I certainly _have_ had my share of beauty, but\\r\\nI do not pretend to be anything extraordinary now. When a woman has five\\r\\ngrown-up daughters, she ought to give over thinking of her own beauty.\"\\r\\n\\r\\n\"In such cases, a woman has not often much beauty to think of.\"\\r\\n\\r\\n\"But, my dear, you must indeed go and see Mr. Bingley when he comes into\\r\\nthe neighbourhood.\"\\r\\n\\r\\n\"It is more than I engage for, I assure you.\"\\r\\n\\r\\n\"But consider your daughters. Only think what an establishment it would\\r\\nbe for one of them. Sir William and Lady Lucas are determined to\\r\\ngo, merely on that account, for in general, you know, they visit no\\r\\nnewcomers. Indeed you must go, for it will be impossible for _us_ to\\r\\nvisit him if you do not.\"\\r\\n\\r\\n\"You are over-scrupulous, surely. I dare say Mr. Bingley will be very\\r\\nglad to see you; and I will send a few lines by you to assure him of my\\r\\nhearty consent to his marrying whichever he chooses of the girls; though\\r\\nI must throw in a good word for my little Lizzy.\"\\r\\n\\r\\n\"I desire you will do no such thing. Lizzy is not a bit better than the\\r\\nothers; and I am sure she is not half so handsome as Jane, nor half so\\r\\ngood-humoured as Lydia. But you are always giving _her_ the preference.\"\\r\\n\\r\\n\"They have none of them much to recommend them,\" replied he; \"they are\\r\\nall silly and ignorant like other girls; but Lizzy has something more of\\r\\nquickness than her sisters.\"\\r\\n\\r\\n\"Mr. Bennet, how _can_ you abuse your own children in such a way? You\\r\\ntake delight in vexing me. You have no compassion for my poor nerves.\"\\r\\n\\r\\n\"You mistake me, my dear. I have a high respect for your nerves. They\\r\\nare my old friends. I have heard you mention them with consideration\\r\\nthese last twenty years at least.\"\\r\\n\\r\\n\"Ah, you do not know what I suffer.\"\\r\\n\\r\\n\"But I hope you will get over it, and live to see many young men of four\\r\\nthousand a year come into the neighbourhood.\"\\r\\n\\r\\n\"It will be no use to us, if twenty such should come, since you will not\\r\\nvisit them.\"\\r\\n\\r\\n\"Depend upon it, my dear, that when there are twenty, I will visit them\\r\\nall.\"\\r\\n\\r\\n r. Bennet was so odd a mixture of quick parts, sarcastic humour,\\r\\nreserve, and caprice, that the experience of three-and-twenty years had\\r\\nbeen insufficient to make his wife understand his character. _Her_ mind\\r\\nwas less difficult to develop. She was a woman of mean understanding,\\r\\nlittle information, and uncertain temper. When she was discontented,\\r\\nshe fancied herself nervous. The business of her life was to get her\\r\\ndaughters married; its solace was visiting and news.\\r\\n\\r\\n\\r\\n\\r\\n'"
       ]
      }
     ],
     "prompt_number": 11
    },
    {
     "cell_type": "code",
     "collapsed": false,
     "input": [
      "def cleanup(text):\n",
      "    \"\"\" This function cleans up the text a bit, and removes newlines.\"\"\"\n",
      "    import ununicode as ununicode\n",
      "\n",
      "    data = text.decode('utf8')\n",
      "    data = ununicode.toascii(data)  # a useful function that does some simple unicode replacements\n",
      "    data = data.replace('\\r', '')  # windows newline in some files\n",
      "    data = data.replace('\\n', ' ')  # turn newline into space\n",
      "    data = data.strip()  # strip remaining white space chars from edges\n",
      "    return data"
     ],
     "language": "python",
     "metadata": {},
     "outputs": [],
     "prompt_number": 14
    },
    {
     "cell_type": "code",
     "collapsed": false,
     "input": [
      "cleanup(text)"
     ],
     "language": "python",
     "metadata": {},
     "outputs": [
      {
       "metadata": {},
       "output_type": "pyout",
       "prompt_number": 15,
       "text": [
        "'It is a truth universally acknowledged, that a single man in possession of a good fortune, must be in want of a wife. However little known the feelings or views of such a man may be on his first entering a neighbourhood, this truth is so well fixed in the minds of the surrounding families, that he is considered the rightful property of some one or other of their daughters. \"My dear Mr. Bennet,\" said his lady to him one day, \"have you heard that Netherfield Park is let at last?\"  r. Bennet replied that he had not. \"But it is,\" returned she; \"for Mrs. Long has just been here, and she told me all about it.\"  Mr. Bennet made no answer. \"Do you not want to know who has taken it?\" cried his wife impatiently.  \"_You_ want to tell me, and I have no objection to hearing it.\"  This was invitation enough.  \"Why, my dear, you must know, Mrs. Long says that Netherfield is taken by a young man of large fortune from the north of England; that he came down on Monday in a chaise and four to see the place, and was so much delighted with it, that he agreed with Mr. Morris immediately; that he is to take possession before Michaelmas, and some of his servants are to be in the house by the end of next week.\"  \"What is his name?\"  \"Bingley.\"  \"Is he married or single?\"  \"Oh! Single, my dear, to be sure! A single man of large fortune; four or five thousand a year. What a fine thing for our girls!\"  \"How so? How can it affect them?\"  \"My dear Mr. Bennet,\" replied his wife, \"how can you be so tiresome! You  ust know that I am thinking of his marrying one of them.\"  \"Is that his design in settling here?\"  \"Design! Nonsense, how can you talk so! But it is very likely that he _may_ fall in love with one of them, and therefore you must visit him as soon as he comes.\"  \"I see no occasion for that. You and the girls may go, or you may send them by themselves, which perhaps will be still better, for as you are as handsome as any of them, Mr. Bingley may like you the best of the party.\"  \"My dear, you flatter me. I certainly _have_ had my share of beauty, but I do not pretend to be anything extraordinary now. When a woman has five grown-up daughters, she ought to give over thinking of her own beauty.\"  \"In such cases, a woman has not often much beauty to think of.\"  \"But, my dear, you must indeed go and see Mr. Bingley when he comes into the neighbourhood.\"  \"It is more than I engage for, I assure you.\"  \"But consider your daughters. Only think what an establishment it would be for one of them. Sir William and Lady Lucas are determined to go, merely on that account, for in general, you know, they visit no newcomers. Indeed you must go, for it will be impossible for _us_ to visit him if you do not.\"  \"You are over-scrupulous, surely. I dare say Mr. Bingley will be very glad to see you; and I will send a few lines by you to assure him of my hearty consent to his marrying whichever he chooses of the girls; though I must throw in a good word for my little Lizzy.\"  \"I desire you will do no such thing. Lizzy is not a bit better than the others; and I am sure she is not half so handsome as Jane, nor half so good-humoured as Lydia. But you are always giving _her_ the preference.\"  \"They have none of them much to recommend them,\" replied he; \"they are all silly and ignorant like other girls; but Lizzy has something more of quickness than her sisters.\"  \"Mr. Bennet, how _can_ you abuse your own children in such a way? You take delight in vexing me. You have no compassion for my poor nerves.\"  \"You mistake me, my dear. I have a high respect for your nerves. They are my old friends. I have heard you mention them with consideration these last twenty years at least.\"  \"Ah, you do not know what I suffer.\"  \"But I hope you will get over it, and live to see many young men of four thousand a year come into the neighbourhood.\"  \"It will be no use to us, if twenty such should come, since you will not visit them.\"  \"Depend upon it, my dear, that when there are twenty, I will visit them all.\"   r. Bennet was so odd a mixture of quick parts, sarcastic humour, reserve, and caprice, that the experience of three-and-twenty years had been insufficient to make his wife understand his character. _Her_ mind was less difficult to develop. She was a woman of mean understanding, little information, and uncertain temper. When she was discontented, she fancied herself nervous. The business of her life was to get her daughters married; its solace was visiting and news.'"
       ]
      }
     ],
     "prompt_number": 15
    },
    {
     "cell_type": "code",
     "collapsed": false,
     "input": [
      "import string\n",
      "string.punctuation"
     ],
     "language": "python",
     "metadata": {},
     "outputs": [
      {
       "metadata": {},
       "output_type": "pyout",
       "prompt_number": 16,
       "text": [
        "'!\"#$%&\\'()*+,-./:;<=>?@[\\\\]^_`{|}~'"
       ]
      }
     ],
     "prompt_number": 16
    },
    {
     "cell_type": "code",
     "collapsed": false,
     "input": [
      "def cleanup_and_pos(text, pos='VB'):\n",
      "    \"\"\" Run the cleanup function, convert to a list of verbs, clean out misc stuff left.\"\"\"\n",
      "    import string\n",
      "    other_things_to_strip = []  # put your own list of strings here, based on reading outputs\n",
      "    \n",
      "    data = cleanup(text)\n",
      "    verbs = tag_by_line(data, pos)   # returns a list of verbs \n",
      "    cleanverbs = [verb for verb in verbs if verb not in string.punctuation]\n",
      "    cleanverbs = [word for word in cleanverbs if word not in other_things_to_strip]\n",
      "    newdata = ' '.join(cleanverbs)  # make it a single string\n",
      "    return newdata"
     ],
     "language": "python",
     "metadata": {},
     "outputs": [],
     "prompt_number": 17
    },
    {
     "cell_type": "code",
     "collapsed": false,
     "input": [
      "cleanup_and_pos(text, pos='VB')"
     ],
     "language": "python",
     "metadata": {},
     "outputs": [
      {
       "metadata": {},
       "output_type": "pyout",
       "prompt_number": 18,
       "text": [
        "u'is acknowledged be little known be entering is fixed surrounding is considered said have heard is let r. replied had is returned has been told made Do want know has taken cried want tell have hearing was know says is taken came see was agreed is take are be is Is married be affect replied be know am thinking marrying Is settling talk is visit comes see go send be are like flatter have had do pretend be has give has think go see comes is engage assure consider think be are determined go know visit go be visit do are dare say be see send assure marrying chooses throw do is am is good-humoured are giving have recommend replied are has take have have are have heard mention do know suffer hope get see come be come visit Depend are visit r. was had been make understand was develop was was fancied was get was visiting'"
       ]
      }
     ],
     "prompt_number": 18
    },
    {
     "cell_type": "markdown",
     "metadata": {},
     "source": [
      "## You may not like everything you see.  Feel free to add any strings you want removed in the other_things_to_strip list, too."
     ]
    },
    {
     "cell_type": "heading",
     "level": 3,
     "metadata": {},
     "source": [
      "Now we can apply your function to every file and write out a new data directory..."
     ]
    },
    {
     "cell_type": "code",
     "collapsed": false,
     "input": [
      "def rewrite_all(dirname, newdir, funct=cleanup_and_pos, pos='VB'):\n",
      "    \"\"\" Take in a director of original docs, a new directory name, and a function to apply to each.\"\"\"\n",
      "    import os\n",
      "    \n",
      "    if not os.path.exists(newdir):\n",
      "        print 'Making directory', newdir\n",
      "        os.makedirs(newdir)\n",
      "        \n",
      "    for (dirpath, dirname, filenames) in os.walk(dirname):\n",
      "        for file in filenames:\n",
      "            print dirpath, file\n",
      "            with open(os.path.join(dirpath,file), 'r') as myfile:\n",
      "                data=myfile.read()\n",
      "                newdata = funct(data, pos=pos)\n",
      "                newfilename = os.path.basename(file)\n",
      "                with open(os.path.join(newdir, newfilename), 'wb') as temp_file:\n",
      "                    temp_file.write(newdata.encode('utf8'))\n",
      "                    print 'Wrote ', os.path.join(newdir, newfilename)"
     ],
     "language": "python",
     "metadata": {},
     "outputs": [],
     "prompt_number": 19
    },
    {
     "cell_type": "code",
     "collapsed": false,
     "input": [
      "rewrite_all('../data/mixed_chapters', '../data/verb_mixed', funct=cleanup_and_pos, pos='VB')"
     ],
     "language": "python",
     "metadata": {},
     "outputs": [
      {
       "output_type": "stream",
       "stream": "stdout",
       "text": [
        "../data/mixed_chapters austen_pride_ch1.txt\n",
        "Wrote "
       ]
      },
      {
       "output_type": "stream",
       "stream": "stdout",
       "text": [
        " ../data/verb_mixed/austen_pride_ch1.txt\n",
        "../data/mixed_chapters austen_pride_ch2.txt\n",
        "Wrote "
       ]
      },
      {
       "output_type": "stream",
       "stream": "stdout",
       "text": [
        " ../data/verb_mixed/austen_pride_ch2.txt\n",
        "../data/mixed_chapters austen_pride_ch40.txt\n",
        "Wrote "
       ]
      },
      {
       "output_type": "stream",
       "stream": "stdout",
       "text": [
        " ../data/verb_mixed/austen_pride_ch40.txt\n",
        "../data/mixed_chapters austen_pride_ch50.txt\n",
        "Wrote "
       ]
      },
      {
       "output_type": "stream",
       "stream": "stdout",
       "text": [
        " ../data/verb_mixed/austen_pride_ch50.txt\n",
        "../data/mixed_chapters austen_sense_ch1.txt\n",
        "Wrote "
       ]
      },
      {
       "output_type": "stream",
       "stream": "stdout",
       "text": [
        " ../data/verb_mixed/austen_sense_ch1.txt\n",
        "../data/mixed_chapters austen_sense_ch2.txt\n",
        "Wrote "
       ]
      },
      {
       "output_type": "stream",
       "stream": "stdout",
       "text": [
        " ../data/verb_mixed/austen_sense_ch2.txt\n",
        "../data/mixed_chapters austen_sense_ch27.txt\n",
        "Wrote "
       ]
      },
      {
       "output_type": "stream",
       "stream": "stdout",
       "text": [
        " ../data/verb_mixed/austen_sense_ch27.txt\n",
        "../data/mixed_chapters austen_sense_ch41.txt\n",
        "Wrote "
       ]
      },
      {
       "output_type": "stream",
       "stream": "stdout",
       "text": [
        " ../data/verb_mixed/austen_sense_ch41.txt\n",
        "../data/mixed_chapters barrie_peterpan_ch1.txt\n",
        "Wrote "
       ]
      },
      {
       "output_type": "stream",
       "stream": "stdout",
       "text": [
        " ../data/verb_mixed/barrie_peterpan_ch1.txt\n",
        "../data/mixed_chapters barrie_peterpan_ch15.txt\n",
        "Wrote "
       ]
      },
      {
       "output_type": "stream",
       "stream": "stdout",
       "text": [
        " ../data/verb_mixed/barrie_peterpan_ch15.txt\n",
        "../data/mixed_chapters barrie_peterpan_ch2.txt\n",
        "Wrote "
       ]
      },
      {
       "output_type": "stream",
       "stream": "stdout",
       "text": [
        " ../data/verb_mixed/barrie_peterpan_ch2.txt\n",
        "../data/mixed_chapters brown_angels_ch1.txt\n",
        "Wrote "
       ]
      },
      {
       "output_type": "stream",
       "stream": "stdout",
       "text": [
        " ../data/verb_mixed/brown_angels_ch1.txt\n",
        "../data/mixed_chapters brown_angels_ch2_4.txt\n",
        "Wrote "
       ]
      },
      {
       "output_type": "stream",
       "stream": "stdout",
       "text": [
        " ../data/verb_mixed/brown_angels_ch2_4.txt\n",
        "../data/mixed_chapters brown_davinci_ch0.txt\n",
        "Wrote "
       ]
      },
      {
       "output_type": "stream",
       "stream": "stdout",
       "text": [
        " ../data/verb_mixed/brown_davinci_ch0.txt\n",
        "../data/mixed_chapters brown_davinci_ch1.txt\n",
        "Wrote "
       ]
      },
      {
       "output_type": "stream",
       "stream": "stdout",
       "text": [
        " ../data/verb_mixed/brown_davinci_ch1.txt\n",
        "../data/mixed_chapters brown_davinci_ch77.txt\n",
        "Wrote "
       ]
      },
      {
       "output_type": "stream",
       "stream": "stdout",
       "text": [
        " ../data/verb_mixed/brown_davinci_ch77.txt\n",
        "../data/mixed_chapters brown_davinci_ch92.txt\n",
        "Wrote "
       ]
      },
      {
       "output_type": "stream",
       "stream": "stdout",
       "text": [
        " ../data/verb_mixed/brown_davinci_ch92.txt\n",
        "../data/mixed_chapters conrad_secret_ch1.txt\n",
        "Wrote "
       ]
      },
      {
       "output_type": "stream",
       "stream": "stdout",
       "text": [
        " ../data/verb_mixed/conrad_secret_ch1.txt\n",
        "../data/mixed_chapters conrad_secret_ch2.txt\n",
        "Wrote "
       ]
      },
      {
       "output_type": "stream",
       "stream": "stdout",
       "text": [
        " ../data/verb_mixed/conrad_secret_ch2.txt\n",
        "../data/mixed_chapters doyle_caseofidentity.txt\n",
        "Wrote "
       ]
      },
      {
       "output_type": "stream",
       "stream": "stdout",
       "text": [
        " ../data/verb_mixed/doyle_caseofidentity.txt\n",
        "../data/mixed_chapters doyle_redheadedleague.txt\n",
        "Wrote "
       ]
      },
      {
       "output_type": "stream",
       "stream": "stdout",
       "text": [
        " ../data/verb_mixed/doyle_redheadedleague.txt\n",
        "../data/mixed_chapters doyle_scandalbohemia.txt\n",
        "Wrote "
       ]
      },
      {
       "output_type": "stream",
       "stream": "stdout",
       "text": [
        " ../data/verb_mixed/doyle_scandalbohemia.txt\n",
        "../data/mixed_chapters eliot_middlemarch_ch1.txt\n",
        "Wrote "
       ]
      },
      {
       "output_type": "stream",
       "stream": "stdout",
       "text": [
        " ../data/verb_mixed/eliot_middlemarch_ch1.txt\n",
        "../data/mixed_chapters eliot_middlemarch_ch2.txt\n",
        "Wrote "
       ]
      },
      {
       "output_type": "stream",
       "stream": "stdout",
       "text": [
        " ../data/verb_mixed/eliot_middlemarch_ch2.txt\n",
        "../data/mixed_chapters eliot_middlemarch_ch48.txt\n",
        "Wrote "
       ]
      },
      {
       "output_type": "stream",
       "stream": "stdout",
       "text": [
        " ../data/verb_mixed/eliot_middlemarch_ch48.txt\n",
        "../data/mixed_chapters eliot_middlemarch_ch73.txt\n",
        "Wrote "
       ]
      },
      {
       "output_type": "stream",
       "stream": "stdout",
       "text": [
        " ../data/verb_mixed/eliot_middlemarch_ch73.txt\n",
        "../data/mixed_chapters eljames_fiftyshades_ch1.txt\n",
        "Wrote "
       ]
      },
      {
       "output_type": "stream",
       "stream": "stdout",
       "text": [
        " ../data/verb_mixed/eljames_fiftyshades_ch1.txt\n",
        "../data/mixed_chapters eljames_fiftyshades_ch18.txt\n",
        "Wrote "
       ]
      },
      {
       "output_type": "stream",
       "stream": "stdout",
       "text": [
        " ../data/verb_mixed/eljames_fiftyshades_ch18.txt\n",
        "../data/mixed_chapters eljames_fiftyshades_ch2.txt\n",
        "Wrote "
       ]
      },
      {
       "output_type": "stream",
       "stream": "stdout",
       "text": [
        " ../data/verb_mixed/eljames_fiftyshades_ch2.txt\n",
        "../data/mixed_chapters eljames_fiftyshades_ch23.txt\n",
        "Wrote "
       ]
      },
      {
       "output_type": "stream",
       "stream": "stdout",
       "text": [
        " ../data/verb_mixed/eljames_fiftyshades_ch23.txt\n",
        "../data/mixed_chapters grimms_hanselgretel.txt\n",
        "Wrote "
       ]
      },
      {
       "output_type": "stream",
       "stream": "stdout",
       "text": [
        " ../data/verb_mixed/grimms_hanselgretel.txt\n",
        "../data/mixed_chapters grimms_snowdrop.txt\n",
        "Wrote "
       ]
      },
      {
       "output_type": "stream",
       "stream": "stdout",
       "text": [
        " ../data/verb_mixed/grimms_snowdrop.txt\n",
        "../data/mixed_chapters grimms_wateroflife.txt\n",
        "Wrote "
       ]
      },
      {
       "output_type": "stream",
       "stream": "stdout",
       "text": [
        " ../data/verb_mixed/grimms_wateroflife.txt\n",
        "../data/mixed_chapters lewis_lionwitch_ch1.txt\n",
        "Wrote "
       ]
      },
      {
       "output_type": "stream",
       "stream": "stdout",
       "text": [
        " ../data/verb_mixed/lewis_lionwitch_ch1.txt\n",
        "../data/mixed_chapters lewis_lionwitch_ch12.txt\n",
        "Wrote "
       ]
      },
      {
       "output_type": "stream",
       "stream": "stdout",
       "text": [
        " ../data/verb_mixed/lewis_lionwitch_ch12.txt\n",
        "../data/mixed_chapters lewis_lionwitch_ch14.txt\n",
        "Wrote "
       ]
      },
      {
       "output_type": "stream",
       "stream": "stdout",
       "text": [
        " ../data/verb_mixed/lewis_lionwitch_ch14.txt\n",
        "../data/mixed_chapters lewis_lionwitch_ch2.txt\n",
        "Wrote "
       ]
      },
      {
       "output_type": "stream",
       "stream": "stdout",
       "text": [
        " ../data/verb_mixed/lewis_lionwitch_ch2.txt\n",
        "../data/mixed_chapters meyer_twilight_ch1.txt\n",
        "Wrote "
       ]
      },
      {
       "output_type": "stream",
       "stream": "stdout",
       "text": [
        " ../data/verb_mixed/meyer_twilight_ch1.txt\n",
        "../data/mixed_chapters meyer_twilight_ch15.txt\n",
        "Wrote "
       ]
      },
      {
       "output_type": "stream",
       "stream": "stdout",
       "text": [
        " ../data/verb_mixed/meyer_twilight_ch15.txt\n",
        "../data/mixed_chapters meyer_twilight_ch2.txt\n",
        "Wrote "
       ]
      },
      {
       "output_type": "stream",
       "stream": "stdout",
       "text": [
        " ../data/verb_mixed/meyer_twilight_ch2.txt\n",
        "../data/mixed_chapters meyer_twilight_ch21.txt\n",
        "Wrote "
       ]
      },
      {
       "output_type": "stream",
       "stream": "stdout",
       "text": [
        " ../data/verb_mixed/meyer_twilight_ch21.txt\n",
        "../data/mixed_chapters stevenson_treasure_ch1.txt\n",
        "Wrote "
       ]
      },
      {
       "output_type": "stream",
       "stream": "stdout",
       "text": [
        " ../data/verb_mixed/stevenson_treasure_ch1.txt\n",
        "../data/mixed_chapters stevenson_treasure_ch2.txt\n",
        "Wrote "
       ]
      },
      {
       "output_type": "stream",
       "stream": "stdout",
       "text": [
        " ../data/verb_mixed/stevenson_treasure_ch2.txt\n"
       ]
      }
     ],
     "prompt_number": 20
    },
    {
     "cell_type": "heading",
     "level": 3,
     "metadata": {},
     "source": [
      "Now you can use that new text directory as input to the topic modeling gui!"
     ]
    },
    {
     "cell_type": "markdown",
     "metadata": {},
     "source": [
      "-----"
     ]
    },
    {
     "cell_type": "heading",
     "level": 3,
     "metadata": {},
     "source": [
      "Appendix: Splitting up a document into sentences, words, etc using NLTK"
     ]
    },
    {
     "cell_type": "heading",
     "level": 4,
     "metadata": {},
     "source": [
      "You can optionally tokenize how you like - these are some examples of word tokenization using nltk. You can also do by sentence, or by whitespace..."
     ]
    },
    {
     "cell_type": "code",
     "collapsed": false,
     "input": [
      "# words\n",
      "from nltk import tokenize\n",
      "import ununicode as ununicode\n",
      "words = [tokenize.word_tokenize(ununicode.toascii(u'Hi there -- I like text'))]\n",
      "words"
     ],
     "language": "python",
     "metadata": {},
     "outputs": [
      {
       "metadata": {},
       "output_type": "pyout",
       "prompt_number": 23,
       "text": [
        "[['Hi', 'there', '--', 'I', 'like', 'text']]"
       ]
      }
     ],
     "prompt_number": 23
    },
    {
     "cell_type": "code",
     "collapsed": false,
     "input": [
      "# no punctuation - see http://stackoverflow.com/questions/15547409/how-to-get-rid-of-punctuation-using-nltk-tokenizer\n",
      "from nltk.tokenize import RegexpTokenizer\n",
      "\n",
      "nopunct = RegexpTokenizer(r'\\w+')\n",
      "nopunct.tokenize('Eighty-seven miles to go, yet.  Onward!')"
     ],
     "language": "python",
     "metadata": {},
     "outputs": [
      {
       "metadata": {},
       "output_type": "pyout",
       "prompt_number": 24,
       "text": [
        "['Eighty', 'seven', 'miles', 'to', 'go', 'yet', 'Onward']"
       ]
      }
     ],
     "prompt_number": 24
    },
    {
     "cell_type": "code",
     "collapsed": false,
     "input": [
      "nopunct.tokenize(ununicode.toascii(u\"I wanted to go, but he wouldn't let me -- unless I kissed his dog.\"))"
     ],
     "language": "python",
     "metadata": {},
     "outputs": [
      {
       "metadata": {},
       "output_type": "pyout",
       "prompt_number": 25,
       "text": [
        "['I',\n",
        " 'wanted',\n",
        " 'to',\n",
        " 'go',\n",
        " 'but',\n",
        " 'he',\n",
        " 'wouldn',\n",
        " 't',\n",
        " 'let',\n",
        " 'me',\n",
        " 'unless',\n",
        " 'I',\n",
        " 'kissed',\n",
        " 'his',\n",
        " 'dog']"
       ]
      }
     ],
     "prompt_number": 25
    },
    {
     "cell_type": "code",
     "collapsed": false,
     "input": [],
     "language": "python",
     "metadata": {},
     "outputs": []
    }
   ],
   "metadata": {}
  }
 ]
}